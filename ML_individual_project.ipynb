{
  "nbformat": 4,
  "nbformat_minor": 0,
  "metadata": {
    "colab": {
      "name": "ML-individual-project.ipynb",
      "provenance": [],
      "collapsed_sections": [
        "ojOep9Km3piK",
        "WkWDCVrNN0aL",
        "5YTSu4c9GKX6",
        "jPVRTP_SGRVP",
        "E_TW5ZZNGBlS"
      ],
      "mount_file_id": "1S6rNGvzFsNtXGRjq7BjNqDinHw7_dZ5X",
      "authorship_tag": "ABX9TyMLcpSe/tjThgVDUM+SZMwo",
      "include_colab_link": true
    },
    "kernelspec": {
      "name": "python3",
      "display_name": "Python 3"
    },
    "language_info": {
      "name": "python"
    }
  },
  "cells": [
    {
      "cell_type": "markdown",
      "metadata": {
        "id": "view-in-github",
        "colab_type": "text"
      },
      "source": [
        "<a href=\"https://colab.research.google.com/github/AshanMSilva/ML-individual-project/blob/main/ML_individual_project.ipynb\" target=\"_parent\"><img src=\"https://colab.research.google.com/assets/colab-badge.svg\" alt=\"Open In Colab\"/></a>"
      ]
    },
    {
      "cell_type": "markdown",
      "metadata": {
        "id": "ojOep9Km3piK"
      },
      "source": [
        "# Connect Google Drive\n"
      ]
    },
    {
      "cell_type": "code",
      "metadata": {
        "colab": {
          "base_uri": "https://localhost:8080/"
        },
        "id": "HQLJ27uL3jSK",
        "outputId": "da5b7488-284b-449a-9b09-22b096f5e865"
      },
      "source": [
        "from google.colab import drive\n",
        "drive.mount('/content/drive')"
      ],
      "execution_count": 1,
      "outputs": [
        {
          "output_type": "stream",
          "name": "stdout",
          "text": [
            "Drive already mounted at /content/drive; to attempt to forcibly remount, call drive.mount(\"/content/drive\", force_remount=True).\n"
          ]
        }
      ]
    },
    {
      "cell_type": "markdown",
      "metadata": {
        "id": "WkWDCVrNN0aL"
      },
      "source": [
        "# Import Packages"
      ]
    },
    {
      "cell_type": "code",
      "metadata": {
        "id": "-msPi2yUOe7K"
      },
      "source": [
        "import pandas as pd\n",
        "import geopy\n",
        "from geopy.geocoders import Nominatim\n",
        "from collections import Counter\n",
        "import matplotlib.pyplot as plt\n",
        "import seaborn as sns\n",
        "import statistics\n",
        "from sklearn.model_selection import train_test_split\n",
        "from sklearn.ensemble import RandomForestClassifier\n",
        "from sklearn.model_selection import GridSearchCV\n",
        "from sklearn.metrics import accuracy_score\n",
        "from sklearn.preprocessing import LabelEncoder\n",
        "from collections import Counter\n"
      ],
      "execution_count": 71,
      "outputs": []
    },
    {
      "cell_type": "markdown",
      "metadata": {
        "id": "FjcAWHWYOk-R"
      },
      "source": [
        "# Import Datasets"
      ]
    },
    {
      "cell_type": "code",
      "metadata": {
        "id": "Q5xBDXB9OomR"
      },
      "source": [
        "training_features_path = '/content/drive/MyDrive/ML-individual-project/training_features.csv'\n",
        "training_labels_path =\"/content/drive/MyDrive/ML-individual-project/training_labels.csv\"\n",
        "test_features_path = \"/content/drive/MyDrive/ML-individual-project/test_features.csv\""
      ],
      "execution_count": 4,
      "outputs": []
    },
    {
      "cell_type": "code",
      "metadata": {
        "colab": {
          "base_uri": "https://localhost:8080/"
        },
        "id": "XmqVa1TuTp1I",
        "outputId": "21a2f2d2-1240-497e-e614-ae8035898c3e"
      },
      "source": [
        "training_features = pd.read_csv(training_features_path)\n",
        "training_features.info()"
      ],
      "execution_count": 5,
      "outputs": [
        {
          "output_type": "stream",
          "name": "stdout",
          "text": [
            "<class 'pandas.core.frame.DataFrame'>\n",
            "RangeIndex: 59400 entries, 0 to 59399\n",
            "Data columns (total 40 columns):\n",
            " #   Column                 Non-Null Count  Dtype  \n",
            "---  ------                 --------------  -----  \n",
            " 0   id                     59400 non-null  int64  \n",
            " 1   amount_tsh             59400 non-null  float64\n",
            " 2   date_recorded          59400 non-null  object \n",
            " 3   funder                 55765 non-null  object \n",
            " 4   gps_height             59400 non-null  int64  \n",
            " 5   installer              55745 non-null  object \n",
            " 6   longitude              59400 non-null  float64\n",
            " 7   latitude               59400 non-null  float64\n",
            " 8   wpt_name               59400 non-null  object \n",
            " 9   num_private            59400 non-null  int64  \n",
            " 10  basin                  59400 non-null  object \n",
            " 11  subvillage             59029 non-null  object \n",
            " 12  region                 59400 non-null  object \n",
            " 13  region_code            59400 non-null  int64  \n",
            " 14  district_code          59400 non-null  int64  \n",
            " 15  lga                    59400 non-null  object \n",
            " 16  ward                   59400 non-null  object \n",
            " 17  population             59400 non-null  int64  \n",
            " 18  public_meeting         56066 non-null  object \n",
            " 19  recorded_by            59400 non-null  object \n",
            " 20  scheme_management      55523 non-null  object \n",
            " 21  scheme_name            31234 non-null  object \n",
            " 22  permit                 56344 non-null  object \n",
            " 23  construction_year      59400 non-null  int64  \n",
            " 24  extraction_type        59400 non-null  object \n",
            " 25  extraction_type_group  59400 non-null  object \n",
            " 26  extraction_type_class  59400 non-null  object \n",
            " 27  management             59400 non-null  object \n",
            " 28  management_group       59400 non-null  object \n",
            " 29  payment                59400 non-null  object \n",
            " 30  payment_type           59400 non-null  object \n",
            " 31  water_quality          59400 non-null  object \n",
            " 32  quality_group          59400 non-null  object \n",
            " 33  quantity               59400 non-null  object \n",
            " 34  quantity_group         59400 non-null  object \n",
            " 35  source                 59400 non-null  object \n",
            " 36  source_type            59400 non-null  object \n",
            " 37  source_class           59400 non-null  object \n",
            " 38  waterpoint_type        59400 non-null  object \n",
            " 39  waterpoint_type_group  59400 non-null  object \n",
            "dtypes: float64(3), int64(7), object(30)\n",
            "memory usage: 18.1+ MB\n"
          ]
        }
      ]
    },
    {
      "cell_type": "code",
      "metadata": {
        "colab": {
          "base_uri": "https://localhost:8080/"
        },
        "id": "Ts_iPyiXT3si",
        "outputId": "c01d5f73-6375-40a5-9ce9-87cd55430661"
      },
      "source": [
        "training_labels = pd.read_csv(training_labels_path)\n",
        "training_labels.info()"
      ],
      "execution_count": 6,
      "outputs": [
        {
          "output_type": "stream",
          "name": "stdout",
          "text": [
            "<class 'pandas.core.frame.DataFrame'>\n",
            "RangeIndex: 59400 entries, 0 to 59399\n",
            "Data columns (total 2 columns):\n",
            " #   Column        Non-Null Count  Dtype \n",
            "---  ------        --------------  ----- \n",
            " 0   id            59400 non-null  int64 \n",
            " 1   status_group  59400 non-null  object\n",
            "dtypes: int64(1), object(1)\n",
            "memory usage: 928.2+ KB\n"
          ]
        }
      ]
    },
    {
      "cell_type": "code",
      "metadata": {
        "colab": {
          "base_uri": "https://localhost:8080/"
        },
        "id": "zgHh4s_dT4w1",
        "outputId": "40cd60a3-bd30-44de-a248-458296a5fd15"
      },
      "source": [
        "test_features = pd.read_csv(test_features_path)\n",
        "test_features.info()"
      ],
      "execution_count": 7,
      "outputs": [
        {
          "output_type": "stream",
          "name": "stdout",
          "text": [
            "<class 'pandas.core.frame.DataFrame'>\n",
            "RangeIndex: 14850 entries, 0 to 14849\n",
            "Data columns (total 40 columns):\n",
            " #   Column                 Non-Null Count  Dtype  \n",
            "---  ------                 --------------  -----  \n",
            " 0   id                     14850 non-null  int64  \n",
            " 1   amount_tsh             14850 non-null  float64\n",
            " 2   date_recorded          14850 non-null  object \n",
            " 3   funder                 13981 non-null  object \n",
            " 4   gps_height             14850 non-null  int64  \n",
            " 5   installer              13973 non-null  object \n",
            " 6   longitude              14850 non-null  float64\n",
            " 7   latitude               14850 non-null  float64\n",
            " 8   wpt_name               14850 non-null  object \n",
            " 9   num_private            14850 non-null  int64  \n",
            " 10  basin                  14850 non-null  object \n",
            " 11  subvillage             14751 non-null  object \n",
            " 12  region                 14850 non-null  object \n",
            " 13  region_code            14850 non-null  int64  \n",
            " 14  district_code          14850 non-null  int64  \n",
            " 15  lga                    14850 non-null  object \n",
            " 16  ward                   14850 non-null  object \n",
            " 17  population             14850 non-null  int64  \n",
            " 18  public_meeting         14029 non-null  object \n",
            " 19  recorded_by            14850 non-null  object \n",
            " 20  scheme_management      13881 non-null  object \n",
            " 21  scheme_name            7758 non-null   object \n",
            " 22  permit                 14113 non-null  object \n",
            " 23  construction_year      14850 non-null  int64  \n",
            " 24  extraction_type        14850 non-null  object \n",
            " 25  extraction_type_group  14850 non-null  object \n",
            " 26  extraction_type_class  14850 non-null  object \n",
            " 27  management             14850 non-null  object \n",
            " 28  management_group       14850 non-null  object \n",
            " 29  payment                14850 non-null  object \n",
            " 30  payment_type           14850 non-null  object \n",
            " 31  water_quality          14850 non-null  object \n",
            " 32  quality_group          14850 non-null  object \n",
            " 33  quantity               14850 non-null  object \n",
            " 34  quantity_group         14850 non-null  object \n",
            " 35  source                 14850 non-null  object \n",
            " 36  source_type            14850 non-null  object \n",
            " 37  source_class           14850 non-null  object \n",
            " 38  waterpoint_type        14850 non-null  object \n",
            " 39  waterpoint_type_group  14850 non-null  object \n",
            "dtypes: float64(3), int64(7), object(30)\n",
            "memory usage: 4.5+ MB\n"
          ]
        }
      ]
    },
    {
      "cell_type": "markdown",
      "metadata": {
        "id": "5VU6GTjWUWF6"
      },
      "source": [
        "# Pre Processing"
      ]
    },
    {
      "cell_type": "code",
      "metadata": {
        "id": "KPkdSq5aILYS"
      },
      "source": [
        "whole_dateframe = training_features\n",
        "wd =whole_dateframe.join(training_labels['status_group'])"
      ],
      "execution_count": 8,
      "outputs": []
    },
    {
      "cell_type": "markdown",
      "metadata": {
        "id": "5YTSu4c9GKX6"
      },
      "source": [
        "## value counts"
      ]
    },
    {
      "cell_type": "code",
      "metadata": {
        "colab": {
          "base_uri": "https://localhost:8080/"
        },
        "id": "HM0N1kBKsArY",
        "outputId": "ee2ab556-4ea5-483b-9c1e-a5045752c361"
      },
      "source": [
        "wd['amount_tsh'].value_counts()"
      ],
      "execution_count": 9,
      "outputs": [
        {
          "output_type": "execute_result",
          "data": {
            "text/plain": [
              "0.0         41639\n",
              "500.0        3102\n",
              "50.0         2472\n",
              "1000.0       1488\n",
              "20.0         1463\n",
              "            ...  \n",
              "8500.0          1\n",
              "6300.0          1\n",
              "220.0           1\n",
              "138000.0        1\n",
              "12.0            1\n",
              "Name: amount_tsh, Length: 98, dtype: int64"
            ]
          },
          "metadata": {},
          "execution_count": 9
        }
      ]
    },
    {
      "cell_type": "code",
      "metadata": {
        "colab": {
          "base_uri": "https://localhost:8080/"
        },
        "id": "WjFGjvC2sIb3",
        "outputId": "47c26cbc-668c-40e5-87f0-09f472c7df71"
      },
      "source": [
        "wd['gps_height'].value_counts()"
      ],
      "execution_count": 10,
      "outputs": [
        {
          "output_type": "execute_result",
          "data": {
            "text/plain": [
              " 0       20438\n",
              "-15         60\n",
              "-16         55\n",
              "-13         55\n",
              "-20         52\n",
              "         ...  \n",
              " 2285        1\n",
              " 2424        1\n",
              " 2552        1\n",
              " 2413        1\n",
              " 2385        1\n",
              "Name: gps_height, Length: 2428, dtype: int64"
            ]
          },
          "metadata": {},
          "execution_count": 10
        }
      ]
    },
    {
      "cell_type": "code",
      "metadata": {
        "colab": {
          "base_uri": "https://localhost:8080/"
        },
        "id": "sw1YFzT9sKxg",
        "outputId": "10a3bd57-945b-47f5-e8ae-e8042f02dd15"
      },
      "source": [
        "wd['longitude'].value_counts()"
      ],
      "execution_count": 11,
      "outputs": [
        {
          "output_type": "execute_result",
          "data": {
            "text/plain": [
              "0.000000     1812\n",
              "37.540901       2\n",
              "33.010510       2\n",
              "39.093484       2\n",
              "32.972719       2\n",
              "             ... \n",
              "37.579803       1\n",
              "33.196490       1\n",
              "34.017119       1\n",
              "33.788326       1\n",
              "30.163579       1\n",
              "Name: longitude, Length: 57516, dtype: int64"
            ]
          },
          "metadata": {},
          "execution_count": 11
        }
      ]
    },
    {
      "cell_type": "code",
      "metadata": {
        "colab": {
          "base_uri": "https://localhost:8080/"
        },
        "id": "iUqkGzWDsLUg",
        "outputId": "42f29edc-36ac-433c-e82d-b0cb670b510a"
      },
      "source": [
        "wd['latitude'].value_counts()"
      ],
      "execution_count": 12,
      "outputs": [
        {
          "output_type": "execute_result",
          "data": {
            "text/plain": [
              "-2.000000e-08    1812\n",
              "-6.985842e+00       2\n",
              "-3.797579e+00       2\n",
              "-6.981884e+00       2\n",
              "-7.104625e+00       2\n",
              "                 ... \n",
              "-5.726001e+00       1\n",
              "-9.646831e+00       1\n",
              "-8.124530e+00       1\n",
              "-2.535985e+00       1\n",
              "-2.598965e+00       1\n",
              "Name: latitude, Length: 57517, dtype: int64"
            ]
          },
          "metadata": {},
          "execution_count": 12
        }
      ]
    },
    {
      "cell_type": "code",
      "metadata": {
        "colab": {
          "base_uri": "https://localhost:8080/"
        },
        "id": "DqtDmnT-sL-x",
        "outputId": "f245944b-d1ae-45bd-e06c-1eb60f43a102"
      },
      "source": [
        "wd['permit'].value_counts()"
      ],
      "execution_count": 13,
      "outputs": [
        {
          "output_type": "execute_result",
          "data": {
            "text/plain": [
              "True     38852\n",
              "False    17492\n",
              "Name: permit, dtype: int64"
            ]
          },
          "metadata": {},
          "execution_count": 13
        }
      ]
    },
    {
      "cell_type": "markdown",
      "metadata": {
        "id": "jPVRTP_SGRVP"
      },
      "source": [
        "## group by"
      ]
    },
    {
      "cell_type": "code",
      "metadata": {
        "colab": {
          "base_uri": "https://localhost:8080/"
        },
        "id": "W5iRDfKinuSA",
        "outputId": "f6d085e7-ed30-475d-8ece-2ae46196d654"
      },
      "source": [
        "wd.groupby(['extraction_type', 'extraction_type_group', 'extraction_type_class']).size()"
      ],
      "execution_count": 14,
      "outputs": [
        {
          "output_type": "execute_result",
          "data": {
            "text/plain": [
              "extraction_type            extraction_type_group  extraction_type_class\n",
              "afridev                    afridev                handpump                  1770\n",
              "cemo                       other motorpump        motorpump                   90\n",
              "climax                     other motorpump        motorpump                   32\n",
              "gravity                    gravity                gravity                  26780\n",
              "india mark ii              india mark ii          handpump                  2400\n",
              "india mark iii             india mark iii         handpump                    98\n",
              "ksb                        submersible            submersible               1415\n",
              "mono                       mono                   motorpump                 2865\n",
              "nira/tanira                nira/tanira            handpump                  8154\n",
              "other                      other                  other                     6430\n",
              "other - mkulima/shinyanga  other handpump         handpump                     2\n",
              "other - play pump          other handpump         handpump                    85\n",
              "other - rope pump          rope pump              rope pump                  451\n",
              "other - swn 81             other handpump         handpump                   229\n",
              "submersible                submersible            submersible               4764\n",
              "swn 80                     swn 80                 handpump                  3670\n",
              "walimi                     other handpump         handpump                    48\n",
              "windmill                   wind-powered           wind-powered               117\n",
              "dtype: int64"
            ]
          },
          "metadata": {},
          "execution_count": 14
        }
      ]
    },
    {
      "cell_type": "code",
      "metadata": {
        "colab": {
          "base_uri": "https://localhost:8080/"
        },
        "id": "VLh-YuT9lxYI",
        "outputId": "a7035cf9-b941-49af-fee3-43a3f544bc2a"
      },
      "source": [
        "wd.groupby(['water_quality', 'quality_group']).size()"
      ],
      "execution_count": 15,
      "outputs": [
        {
          "output_type": "execute_result",
          "data": {
            "text/plain": [
              "water_quality       quality_group\n",
              "coloured            colored            490\n",
              "fluoride            fluoride           200\n",
              "fluoride abandoned  fluoride            17\n",
              "milky               milky              804\n",
              "salty               salty             4856\n",
              "salty abandoned     salty              339\n",
              "soft                good             50818\n",
              "unknown             unknown           1876\n",
              "dtype: int64"
            ]
          },
          "metadata": {},
          "execution_count": 15
        }
      ]
    },
    {
      "cell_type": "code",
      "metadata": {
        "colab": {
          "base_uri": "https://localhost:8080/"
        },
        "id": "RFcrEG5mzlWM",
        "outputId": "1350bc8c-68cc-49dd-f2eb-d85a84eeb573"
      },
      "source": [
        "wd.groupby(['management', 'management_group']).size()"
      ],
      "execution_count": 16,
      "outputs": [
        {
          "output_type": "execute_result",
          "data": {
            "text/plain": [
              "management        management_group\n",
              "company           commercial            685\n",
              "other             other                 844\n",
              "other - school    other                  99\n",
              "parastatal        parastatal           1768\n",
              "private operator  commercial           1971\n",
              "trust             commercial             78\n",
              "unknown           unknown               561\n",
              "vwc               user-group          40507\n",
              "water authority   commercial            904\n",
              "water board       user-group           2933\n",
              "wua               user-group           2535\n",
              "wug               user-group           6515\n",
              "dtype: int64"
            ]
          },
          "metadata": {},
          "execution_count": 16
        }
      ]
    },
    {
      "cell_type": "code",
      "metadata": {
        "colab": {
          "base_uri": "https://localhost:8080/"
        },
        "id": "9zRSjb8KsCKf",
        "outputId": "f0a51bca-4a40-4c33-fccc-954d1a5a44ff"
      },
      "source": [
        "training_features.groupby(['region', 'region_code','subvillage']).size()"
      ],
      "execution_count": 55,
      "outputs": [
        {
          "output_type": "execute_result",
          "data": {
            "text/plain": [
              "region  region_code  subvillage\n",
              "Arusha  2            Afya          15\n",
              "                     Ahara          1\n",
              "                     Alairataat     3\n",
              "                     Alakirikir     4\n",
              "                     Alasai         1\n",
              "                                   ..\n",
              "Tanga   5            Morogoro       1\n",
              "                     Rebenya        2\n",
              "                     Temeke A       1\n",
              "                     Ungulodi       1\n",
              "                     Walambe        1\n",
              "Length: 22661, dtype: int64"
            ]
          },
          "metadata": {},
          "execution_count": 55
        }
      ]
    },
    {
      "cell_type": "markdown",
      "metadata": {
        "id": "E_TW5ZZNGBlS"
      },
      "source": [
        "## Graphs"
      ]
    },
    {
      "cell_type": "code",
      "metadata": {
        "colab": {
          "base_uri": "https://localhost:8080/",
          "height": 0
        },
        "id": "Z2ppMyq0L4_R",
        "outputId": "a32e2304-c73d-441d-d823-a77a5bc8e928"
      },
      "source": [
        "count_plot(wd, 'lga','status_group')"
      ],
      "execution_count": 21,
      "outputs": [
        {
          "output_type": "display_data",
          "data": {
            "image/png": "[encoded data removed]",
            "text/plain": [
              "<Figure size 842.4x595.44 with 1 Axes>"
            ]
          },
          "metadata": {}
        }
      ]
    },
    {
      "cell_type": "code",
      "metadata": {
        "colab": {
          "base_uri": "https://localhost:8080/",
          "height": 517
        },
        "id": "dz8Zmqp5pJ8x",
        "outputId": "5dc4c24f-c70e-4bb2-d217-f3600142191c"
      },
      "source": [
        "count_plot(wd, 'basin','status_group')"
      ],
      "execution_count": null,
      "outputs": [
        {
          "output_type": "display_data",
          "data": {
            "image/png": "[encoded data removed]",
            "text/plain": [
              "<Figure size 842.4x595.44 with 1 Axes>"
            ]
          },
          "metadata": {}
        }
      ]
    },
    {
      "cell_type": "code",
      "metadata": {
        "colab": {
          "base_uri": "https://localhost:8080/",
          "height": 517
        },
        "id": "JqP7Jo0epKwp",
        "outputId": "bc1fc124-1444-4773-84f6-cc8d78c62026"
      },
      "source": [
        "count_plot(wd, 'region','status_group')"
      ],
      "execution_count": null,
      "outputs": [
        {
          "output_type": "display_data",
          "data": {
            "image/png": "[encoded data removed]",
            "text/plain": [
              "<Figure size 842.4x595.44 with 1 Axes>"
            ]
          },
          "metadata": {}
        }
      ]
    },
    {
      "cell_type": "code",
      "metadata": {
        "colab": {
          "base_uri": "https://localhost:8080/",
          "height": 517
        },
        "id": "EwtUXzWUq5_B",
        "outputId": "b6c3f847-dc06-4dda-ee92-8f63352d205c"
      },
      "source": [
        "count_plot(wd, 'permit','status_group')"
      ],
      "execution_count": null,
      "outputs": [
        {
          "output_type": "display_data",
          "data": {
            "image/png": "[encoded data removed]",
            "text/plain": [
              "<Figure size 842.4x595.44 with 1 Axes>"
            ]
          },
          "metadata": {}
        }
      ]
    },
    {
      "cell_type": "code",
      "metadata": {
        "colab": {
          "base_uri": "https://localhost:8080/",
          "height": 517
        },
        "id": "WWhf44O8MUri",
        "outputId": "7dfed3e1-5559-4d11-aae5-4f65f1abb8bc"
      },
      "source": [
        "count_plot(wd, 'public_meeting','status_group')"
      ],
      "execution_count": null,
      "outputs": [
        {
          "output_type": "display_data",
          "data": {
            "image/png": "[encoded data removed]",
            "text/plain": [
              "<Figure size 842.4x595.44 with 1 Axes>"
            ]
          },
          "metadata": {}
        }
      ]
    },
    {
      "cell_type": "markdown",
      "metadata": {
        "id": "Ta2aD3dSGgBc"
      },
      "source": [
        "## functions"
      ]
    },
    {
      "cell_type": "code",
      "metadata": {
        "id": "-VnOkzrcnmXU"
      },
      "source": [
        "def get_encoded_labels(y):\n",
        "  encoded_y = pd.get_dummies(y['status_group'])\n",
        "  return encoded_y"
      ],
      "execution_count": 28,
      "outputs": []
    },
    {
      "cell_type": "code",
      "metadata": {
        "id": "s20iETfsoXPU"
      },
      "source": [
        "def get_factorized_features(x,x_test,feature_name):\n",
        "  x[feature_name], index = x[feature_name].factorize()\n",
        "  x_test[feature_name], index_test = x_test[feature_name].factorize()\n",
        "  return x,x_test"
      ],
      "execution_count": 29,
      "outputs": []
    },
    {
      "cell_type": "code",
      "metadata": {
        "id": "Fdhdgzoytcx6"
      },
      "source": [
        "def get_categorized_encoded_features(x,x_test,feature_name):\n",
        "  x_new = pd.get_dummies(x[feature_name])\n",
        "  x_test_new = pd.get_dummies(x_test[feature_name])\n",
        "  x.drop([feature_name])\n",
        "  x.join(x_new)\n",
        "  x_test.drop([feature_name])\n",
        "  x_test.join(x_test_new)\n",
        "  return x,x_test"
      ],
      "execution_count": 30,
      "outputs": []
    },
    {
      "cell_type": "code",
      "metadata": {
        "id": "Ru3jkC29-uS9"
      },
      "source": [
        "def get_factorized_dataframe(x,x_test, factorized_features_list):\n",
        "  x_temp = x\n",
        "  x_test_temp = x_test\n",
        "  for i in factorized_features_list:\n",
        "    x_temp, x_test_temp = get_factorized_features(x_temp, x_test_temp, i)\n",
        "  return x_temp, x_test_temp"
      ],
      "execution_count": 31,
      "outputs": []
    },
    {
      "cell_type": "code",
      "metadata": {
        "id": "svdmFN9w2eld"
      },
      "source": [
        "def get_duration(x,x_test):\n",
        "  x_temp = x\n",
        "  x_test_temp = x_test\n",
        "  train_count = 0\n",
        "  test_count = 0\n",
        "  for i in x[\"construction_year\"]:\n",
        "    x_temp[\"construction_year\"][train_count] = 2021 -i\n",
        "    train_count+=1\n",
        "  for j in x_test[\"construction_year\"]:\n",
        "    x_test_temp[\"construction_year\"][test_count] = 2021 -j\n",
        "    test_count+=1\n",
        "  return x_temp, x_test_temp"
      ],
      "execution_count": 32,
      "outputs": []
    },
    {
      "cell_type": "code",
      "metadata": {
        "id": "9mFMI76kxNRV"
      },
      "source": [
        "def plot_x_and_y(x,y):\n",
        "  plt.bar(x, y)\n",
        "  plt.show()"
      ],
      "execution_count": 33,
      "outputs": []
    },
    {
      "cell_type": "code",
      "metadata": {
        "id": "OsbA_7Q3LE45"
      },
      "source": [
        "def count_plot(dataframe,x , hue):\n",
        "  sns.set(rc={'figure.figsize':(11.7,8.27)})\n",
        "  sns.countplot(data=dataframe,x=x,hue=hue)"
      ],
      "execution_count": 34,
      "outputs": []
    },
    {
      "cell_type": "code",
      "metadata": {
        "id": "0VXE84YymuMk"
      },
      "source": [
        "def drop_unnecessary_features(training_features,test_features):\n",
        "  training_features_dropped = training_features.drop(['id','permit','public_meeting','num_private','source_type', 'source_class', 'payment_type', 'waterpoint_type_group', 'quantity_group', 'water_quality', 'extraction_type_group', 'extraction_type_class', 'scheme_name',  'wpt_name', 'recorded_by','region_code', 'subvillage', 'management_group'], axis=1)\n",
        "  test_features_dropped = test_features.drop(['id','permit','public_meeting','num_private','source_type', 'source_class', 'payment_type', 'waterpoint_type_group', 'quantity_group', 'water_quality', 'extraction_type_group', 'extraction_type_class', 'scheme_name', 'wpt_name', 'recorded_by','region_code','subvillage','management_group'], axis=1)\n",
        "  return training_features_dropped, test_features_dropped"
      ],
      "execution_count": 35,
      "outputs": []
    },
    {
      "cell_type": "code",
      "metadata": {
        "id": "O9SuVKoEuVFz"
      },
      "source": [
        "def get_year(training_features,test_features):\n",
        "  temp_training_features = training_features\n",
        "  temp_test_features = test_features\n",
        "  train_count = 0\n",
        "  test_count = 0\n",
        "  for i in training_features[\"date_recorded\"]:\n",
        "    temp_training_features[\"date_recorded\"][train_count] = 2021 -int(i[0:4])\n",
        "    train_count+=1\n",
        "  for j in test_features[\"date_recorded\"]:\n",
        "    temp_test_features[\"date_recorded\"][test_count] = 2021-int(j[0:4])\n",
        "    test_count+=1\n",
        "  return temp_training_features, temp_test_features"
      ],
      "execution_count": 36,
      "outputs": []
    },
    {
      "cell_type": "code",
      "metadata": {
        "id": "bwwFJ_zAbwlM"
      },
      "source": [
        "# countries = []\n",
        "# for i in range(len(training_features[\"longitude\"])):\n",
        "#   lon = training_features['longitude'][i]\n",
        "#   lat = training_features['latitude'][i]\n",
        "#   coordinates = str(lat)+\", \"+str(lon);\n",
        "#   country = get_country(coordinates)\n",
        "#   countries.append(country)"
      ],
      "execution_count": 37,
      "outputs": []
    },
    {
      "cell_type": "code",
      "metadata": {
        "id": "D5Pw8XpoUZeC"
      },
      "source": [
        "def get_country(coordinates):\n",
        "  locator = Nominatim(user_agent=\"myGeocoder\")\n",
        "  location = locator.reverse(coordinates)\n",
        "  try:\n",
        "    return location.raw[\"address\"]['country']\n",
        "  except:\n",
        "    return \"unknown\"\n",
        "#coordinates = '53.480837, -2.244914'"
      ],
      "execution_count": 38,
      "outputs": []
    },
    {
      "cell_type": "code",
      "metadata": {
        "id": "vwUl7CXk_ssD"
      },
      "source": [
        "def fix_missing_values_using_mean(x, feature_name):\n",
        "  x_feature = x[feature_name]\n",
        "  sorted_x = sorted(x_feature)\n",
        "  zeros_count = sorted_x.count(0)\n",
        "  first_index = sorted_x.index(0)\n",
        "  without_zeros =[]\n",
        "  if first_index == 0:\n",
        "    without_zeros = sorted_x[zeros_count:]\n",
        "  else:\n",
        "    without_zeros = sorted_x[0:first_index]+sorted_x[first_index+zeros_count:]\n",
        "\n",
        "  me = statistics.mean(without_zeros)\n",
        "  rounded_mean = round(me)\n",
        "  x_temp = x\n",
        "  count = 0\n",
        "  for i in x[feature_name]:\n",
        "    if(i == 0):\n",
        "      x_temp[feature_name][count] = rounded_mean\n",
        "    count+=1\n",
        "  return x_temp\n",
        "  \n"
      ],
      "execution_count": 39,
      "outputs": []
    },
    {
      "cell_type": "code",
      "metadata": {
        "id": "-_MsZbHP0Uz7"
      },
      "source": [
        "def get_label_encode(y):\n",
        "  le = LabelEncoder()\n",
        "  le.fit(y)\n",
        "  y = le.transform(y)\n",
        "  return y\n"
      ],
      "execution_count": 40,
      "outputs": []
    },
    {
      "cell_type": "markdown",
      "metadata": {
        "id": "po02vB9G6qEp"
      },
      "source": [
        "## Missing Values"
      ]
    },
    {
      "cell_type": "code",
      "metadata": {
        "colab": {
          "base_uri": "https://localhost:8080/"
        },
        "id": "ynRA8HH1HA1Y",
        "outputId": "9680750e-7ea4-4d02-ff95-fc7473771f98"
      },
      "source": [
        "wd= fix_missing_values_using_mean(wd, 'amount_tsh')\n",
        "wd= fix_missing_values_using_mean(wd, 'gps_height')\n",
        "wd= fix_missing_values_using_mean(wd, 'population')\n",
        "wd= fix_missing_values_using_mean(wd, 'construction_year')\n",
        "\n",
        "##test\n",
        "test_features= fix_missing_values_using_mean(test_features, 'amount_tsh')\n",
        "test_features= fix_missing_values_using_mean(test_features, 'gps_height')\n",
        "test_features= fix_missing_values_using_mean(test_features, 'population')\n",
        "test_features= fix_missing_values_using_mean(test_features, 'construction_year')"
      ],
      "execution_count": 41,
      "outputs": [
        {
          "output_type": "stream",
          "name": "stderr",
          "text": [
            "/usr/local/lib/python3.7/dist-packages/ipykernel_launcher.py:18: SettingWithCopyWarning: \n",
            "A value is trying to be set on a copy of a slice from a DataFrame\n",
            "\n",
            "See the caveats in the documentation: https://pandas.pydata.org/pandas-docs/stable/user_guide/indexing.html#returning-a-view-versus-a-copy\n"
          ]
        }
      ]
    },
    {
      "cell_type": "code",
      "metadata": {
        "colab": {
          "base_uri": "https://localhost:8080/"
        },
        "id": "23WYnaDsqhpk",
        "outputId": "1f7fe51e-ac16-4c43-93fd-028ef0d741c7"
      },
      "source": [
        "wd['funder'].value_counts()"
      ],
      "execution_count": 47,
      "outputs": [
        {
          "output_type": "execute_result",
          "data": {
            "text/plain": [
              "Government Of Tanzania    12719\n",
              "Danida                     3114\n",
              "Hesawa                     2202\n",
              "Rwssp                      1374\n",
              "World Bank                 1349\n",
              "                          ...  \n",
              "Rumaki                        1\n",
              "Mwita                         1\n",
              "Oxfarm Gb                     1\n",
              "Tasaf And Mmem                1\n",
              "Mikumi G                      1\n",
              "Name: funder, Length: 1897, dtype: int64"
            ]
          },
          "metadata": {},
          "execution_count": 47
        }
      ]
    },
    {
      "cell_type": "code",
      "metadata": {
        "id": "0DyeaAyKrC7O"
      },
      "source": [
        "wd['funder'].fillna('Government Of Tanzania', inplace=True)"
      ],
      "execution_count": 42,
      "outputs": []
    },
    {
      "cell_type": "code",
      "metadata": {
        "colab": {
          "base_uri": "https://localhost:8080/"
        },
        "id": "IR6bYe6f3S75",
        "outputId": "99e9b56b-366f-4628-8447-3ec7fff8a8e6"
      },
      "source": [
        "test_features['funder'].value_counts()"
      ],
      "execution_count": 50,
      "outputs": [
        {
          "output_type": "execute_result",
          "data": {
            "text/plain": [
              "Government Of Tanzania    2215\n",
              "Danida                     793\n",
              "Hesawa                     580\n",
              "World Bank                 352\n",
              "Kkkt                       336\n",
              "                          ... \n",
              "Agness                       1\n",
              "Bakari Hamisi                1\n",
              "Mtuwasa And Community        1\n",
              "Salim Aliamari               1\n",
              "Makundya                     1\n",
              "Name: funder, Length: 980, dtype: int64"
            ]
          },
          "metadata": {},
          "execution_count": 50
        }
      ]
    },
    {
      "cell_type": "code",
      "metadata": {
        "id": "bDiLFbfL3TI2"
      },
      "source": [
        "test_features['funder'].fillna('Government Of Tanzania', inplace=True)"
      ],
      "execution_count": 51,
      "outputs": []
    },
    {
      "cell_type": "code",
      "metadata": {
        "colab": {
          "base_uri": "https://localhost:8080/"
        },
        "id": "QNLcyL-dq0dl",
        "outputId": "a80c5d4d-5393-4601-97e9-2c4ab3908840"
      },
      "source": [
        "wd['installer'].value_counts()"
      ],
      "execution_count": 49,
      "outputs": [
        {
          "output_type": "execute_result",
          "data": {
            "text/plain": [
              "DWE                             21057\n",
              "Government                       1825\n",
              "RWE                              1206\n",
              "Commu                            1060\n",
              "DANIDA                           1050\n",
              "                                ...  \n",
              "RO                                  1\n",
              "TECH SUPPORT BEST CO                1\n",
              "MAISHULE                            1\n",
              "KARUMBA BIULDING COMPANY LTD        1\n",
              "Masese                              1\n",
              "Name: installer, Length: 2145, dtype: int64"
            ]
          },
          "metadata": {},
          "execution_count": 49
        }
      ]
    },
    {
      "cell_type": "code",
      "metadata": {
        "id": "14jr4HYurJXg"
      },
      "source": [
        "wd['installer'].fillna('DWE', inplace=True)"
      ],
      "execution_count": 43,
      "outputs": []
    },
    {
      "cell_type": "code",
      "metadata": {
        "colab": {
          "base_uri": "https://localhost:8080/"
        },
        "id": "QWv0LH_z3cWW",
        "outputId": "1c011d38-5b84-4839-94c2-d9ada7c51555"
      },
      "source": [
        "test_features['installer'].value_counts()"
      ],
      "execution_count": 52,
      "outputs": [
        {
          "output_type": "execute_result",
          "data": {
            "text/plain": [
              "DWE                              4349\n",
              "Government                        457\n",
              "RWE                               292\n",
              "Commu                             287\n",
              "DANIDA                            255\n",
              "                                 ... \n",
              "Milenia                             1\n",
              "Africa Muslum Agence Tanzania       1\n",
              "AIMGGOLD                            1\n",
              "Pangaboi Health Centre              1\n",
              "Makundya                            1\n",
              "Name: installer, Length: 1091, dtype: int64"
            ]
          },
          "metadata": {},
          "execution_count": 52
        }
      ]
    },
    {
      "cell_type": "code",
      "metadata": {
        "id": "odwJmI9g3dEt"
      },
      "source": [
        "test_features['installer'].fillna('DWE', inplace=True)"
      ],
      "execution_count": 53,
      "outputs": []
    },
    {
      "cell_type": "code",
      "metadata": {
        "colab": {
          "base_uri": "https://localhost:8080/"
        },
        "id": "JUffRpe_q57G",
        "outputId": "4ea9d6fc-2893-467f-a548-ea3694f468c5"
      },
      "source": [
        "wd['scheme_management'].value_counts()"
      ],
      "execution_count": 51,
      "outputs": [
        {
          "output_type": "execute_result",
          "data": {
            "text/plain": [
              "VWC                 40670\n",
              "WUG                  5206\n",
              "Water authority      3153\n",
              "WUA                  2883\n",
              "Water Board          2748\n",
              "Parastatal           1680\n",
              "Private operator     1063\n",
              "Company              1061\n",
              "Other                 766\n",
              "SWC                    97\n",
              "Trust                  72\n",
              "None                    1\n",
              "Name: scheme_management, dtype: int64"
            ]
          },
          "metadata": {},
          "execution_count": 51
        }
      ]
    },
    {
      "cell_type": "code",
      "metadata": {
        "id": "M52h5OcLrKYm"
      },
      "source": [
        "wd['scheme_management'].fillna('VWC', inplace=True)"
      ],
      "execution_count": 44,
      "outputs": []
    },
    {
      "cell_type": "code",
      "metadata": {
        "colab": {
          "base_uri": "https://localhost:8080/"
        },
        "id": "i6dsNBgq3f86",
        "outputId": "f4fb52b8-c87f-429d-ff73-c28549615168"
      },
      "source": [
        "test_features['scheme_management'].value_counts()"
      ],
      "execution_count": 54,
      "outputs": [
        {
          "output_type": "execute_result",
          "data": {
            "text/plain": [
              "VWC                 9124\n",
              "WUG                 1290\n",
              "Water authority      822\n",
              "Water Board          714\n",
              "WUA                  668\n",
              "Parastatal           444\n",
              "Company              280\n",
              "Private operator     263\n",
              "Other                230\n",
              "SWC                   26\n",
              "Trust                 20\n",
              "Name: scheme_management, dtype: int64"
            ]
          },
          "metadata": {},
          "execution_count": 54
        }
      ]
    },
    {
      "cell_type": "code",
      "metadata": {
        "id": "pIdy6eGr3gFi"
      },
      "source": [
        "test_features['scheme_management'].fillna('VWC', inplace=True)"
      ],
      "execution_count": 55,
      "outputs": []
    },
    {
      "cell_type": "markdown",
      "metadata": {
        "id": "ehoXRU9ZhAb0"
      },
      "source": [
        "## Additional Features"
      ]
    },
    {
      "cell_type": "code",
      "metadata": {
        "colab": {
          "base_uri": "https://localhost:8080/"
        },
        "id": "Gd9Iv2mrg0ol",
        "outputId": "9a11565e-0e83-484c-cfab-587b8e7ffadd"
      },
      "source": [
        "wd, test_features = get_duration(wd, test_features)"
      ],
      "execution_count": 45,
      "outputs": [
        {
          "output_type": "stream",
          "name": "stderr",
          "text": [
            "/usr/local/lib/python3.7/dist-packages/ipykernel_launcher.py:7: SettingWithCopyWarning: \n",
            "A value is trying to be set on a copy of a slice from a DataFrame\n",
            "\n",
            "See the caveats in the documentation: https://pandas.pydata.org/pandas-docs/stable/user_guide/indexing.html#returning-a-view-versus-a-copy\n",
            "  import sys\n",
            "/usr/local/lib/python3.7/dist-packages/ipykernel_launcher.py:10: SettingWithCopyWarning: \n",
            "A value is trying to be set on a copy of a slice from a DataFrame\n",
            "\n",
            "See the caveats in the documentation: https://pandas.pydata.org/pandas-docs/stable/user_guide/indexing.html#returning-a-view-versus-a-copy\n",
            "  # Remove the CWD from sys.path while we load stuff.\n"
          ]
        }
      ]
    },
    {
      "cell_type": "code",
      "metadata": {
        "colab": {
          "base_uri": "https://localhost:8080/"
        },
        "id": "sNlnhTYPhYHv",
        "outputId": "c391f2b4-73ce-45f2-8495-bb73ad31d817"
      },
      "source": [
        "wd['construction_year'].value_counts()"
      ],
      "execution_count": 25,
      "outputs": [
        {
          "output_type": "execute_result",
          "data": {
            "text/plain": [
              "24    21353\n",
              "11     2645\n",
              "13     2613\n",
              "12     2533\n",
              "21     2091\n",
              "14     1587\n",
              "15     1471\n",
              "18     1286\n",
              "10     1256\n",
              "17     1123\n",
              "9      1084\n",
              "19     1075\n",
              "43     1037\n",
              "26     1014\n",
              "16     1011\n",
              "22      979\n",
              "23      966\n",
              "31      954\n",
              "36      945\n",
              "41      811\n",
              "25      811\n",
              "37      779\n",
              "39      744\n",
              "27      738\n",
              "49      708\n",
              "47      676\n",
              "29      640\n",
              "28      608\n",
              "20      540\n",
              "33      521\n",
              "38      488\n",
              "46      437\n",
              "35      434\n",
              "45      414\n",
              "51      411\n",
              "30      324\n",
              "32      316\n",
              "34      302\n",
              "40      238\n",
              "44      202\n",
              "42      192\n",
              "48      184\n",
              "8       176\n",
              "50      145\n",
              "61      102\n",
              "54       88\n",
              "58       85\n",
              "53       77\n",
              "52       59\n",
              "57       40\n",
              "59       30\n",
              "60       21\n",
              "56       19\n",
              "55       17\n",
              "Name: construction_year, dtype: int64"
            ]
          },
          "metadata": {},
          "execution_count": 25
        }
      ]
    },
    {
      "cell_type": "code",
      "metadata": {
        "colab": {
          "base_uri": "https://localhost:8080/",
          "height": 0
        },
        "id": "8U2QqKYohjmY",
        "outputId": "0a17a222-f9bc-49de-c457-b696bac82200"
      },
      "source": [
        "count_plot(wd, 'construction_year','status_group')"
      ],
      "execution_count": 36,
      "outputs": [
        {
          "output_type": "display_data",
          "data": {
            "image/png": "[encoded data removed]",
            "text/plain": [
              "<Figure size 842.4x595.44 with 1 Axes>"
            ]
          },
          "metadata": {}
        }
      ]
    },
    {
      "cell_type": "code",
      "metadata": {
        "colab": {
          "base_uri": "https://localhost:8080/"
        },
        "id": "elDC5O-Th0vB",
        "outputId": "29344271-51c2-41d3-fd38-782805a59f77"
      },
      "source": [
        "wd, test_features = get_year(wd, test_features)"
      ],
      "execution_count": 46,
      "outputs": [
        {
          "output_type": "stream",
          "name": "stderr",
          "text": [
            "/usr/local/lib/python3.7/dist-packages/ipykernel_launcher.py:7: SettingWithCopyWarning: \n",
            "A value is trying to be set on a copy of a slice from a DataFrame\n",
            "\n",
            "See the caveats in the documentation: https://pandas.pydata.org/pandas-docs/stable/user_guide/indexing.html#returning-a-view-versus-a-copy\n",
            "  import sys\n",
            "/usr/local/lib/python3.7/dist-packages/ipykernel_launcher.py:10: SettingWithCopyWarning: \n",
            "A value is trying to be set on a copy of a slice from a DataFrame\n",
            "\n",
            "See the caveats in the documentation: https://pandas.pydata.org/pandas-docs/stable/user_guide/indexing.html#returning-a-view-versus-a-copy\n",
            "  # Remove the CWD from sys.path while we load stuff.\n"
          ]
        }
      ]
    },
    {
      "cell_type": "code",
      "metadata": {
        "colab": {
          "base_uri": "https://localhost:8080/",
          "height": 0
        },
        "id": "7kxrx0J0iMM7",
        "outputId": "0d1d49fb-0176-4428-98d6-3eef6351d610"
      },
      "source": [
        "count_plot(wd, 'date_recorded','status_group')"
      ],
      "execution_count": 37,
      "outputs": [
        {
          "output_type": "display_data",
          "data": {
            "image/png": "[encoded data removed]",
            "text/plain": [
              "<Figure size 842.4x595.44 with 1 Axes>"
            ]
          },
          "metadata": {}
        }
      ]
    },
    {
      "cell_type": "markdown",
      "metadata": {
        "id": "PSTXNQJukWEC"
      },
      "source": [
        "## Remove Unnecessary Features"
      ]
    },
    {
      "cell_type": "code",
      "metadata": {
        "id": "EoLqe67rkbtS"
      },
      "source": [
        "wd, test_features = drop_unnecessary_features(wd, test_features)"
      ],
      "execution_count": 47,
      "outputs": []
    },
    {
      "cell_type": "code",
      "metadata": {
        "colab": {
          "base_uri": "https://localhost:8080/"
        },
        "id": "8wHyFwrtmQuC",
        "outputId": "c36c2cf7-db2a-4635-a339-8138d4087b35"
      },
      "source": [
        "wd.info()"
      ],
      "execution_count": 48,
      "outputs": [
        {
          "output_type": "stream",
          "name": "stdout",
          "text": [
            "<class 'pandas.core.frame.DataFrame'>\n",
            "RangeIndex: 59400 entries, 0 to 59399\n",
            "Data columns (total 23 columns):\n",
            " #   Column             Non-Null Count  Dtype  \n",
            "---  ------             --------------  -----  \n",
            " 0   amount_tsh         59400 non-null  float64\n",
            " 1   date_recorded      59400 non-null  object \n",
            " 2   funder             59400 non-null  object \n",
            " 3   gps_height         59400 non-null  int64  \n",
            " 4   installer          59400 non-null  object \n",
            " 5   longitude          59400 non-null  float64\n",
            " 6   latitude           59400 non-null  float64\n",
            " 7   basin              59400 non-null  object \n",
            " 8   region             59400 non-null  object \n",
            " 9   district_code      59400 non-null  int64  \n",
            " 10  lga                59400 non-null  object \n",
            " 11  ward               59400 non-null  object \n",
            " 12  population         59400 non-null  int64  \n",
            " 13  scheme_management  59400 non-null  object \n",
            " 14  construction_year  59400 non-null  int64  \n",
            " 15  extraction_type    59400 non-null  object \n",
            " 16  management         59400 non-null  object \n",
            " 17  payment            59400 non-null  object \n",
            " 18  quality_group      59400 non-null  object \n",
            " 19  quantity           59400 non-null  object \n",
            " 20  source             59400 non-null  object \n",
            " 21  waterpoint_type    59400 non-null  object \n",
            " 22  status_group       59400 non-null  object \n",
            "dtypes: float64(3), int64(4), object(16)\n",
            "memory usage: 10.4+ MB\n"
          ]
        }
      ]
    },
    {
      "cell_type": "code",
      "metadata": {
        "colab": {
          "base_uri": "https://localhost:8080/"
        },
        "id": "ynmu3q0tt8Z2",
        "outputId": "f81f4008-caaa-43ce-9967-0a9beec191ab"
      },
      "source": [
        "test_features.info()"
      ],
      "execution_count": 56,
      "outputs": [
        {
          "output_type": "stream",
          "name": "stdout",
          "text": [
            "<class 'pandas.core.frame.DataFrame'>\n",
            "RangeIndex: 14850 entries, 0 to 14849\n",
            "Data columns (total 22 columns):\n",
            " #   Column             Non-Null Count  Dtype  \n",
            "---  ------             --------------  -----  \n",
            " 0   amount_tsh         14850 non-null  float64\n",
            " 1   date_recorded      14850 non-null  object \n",
            " 2   funder             14850 non-null  object \n",
            " 3   gps_height         14850 non-null  int64  \n",
            " 4   installer          14850 non-null  object \n",
            " 5   longitude          14850 non-null  float64\n",
            " 6   latitude           14850 non-null  float64\n",
            " 7   basin              14850 non-null  object \n",
            " 8   region             14850 non-null  object \n",
            " 9   district_code      14850 non-null  int64  \n",
            " 10  lga                14850 non-null  object \n",
            " 11  ward               14850 non-null  object \n",
            " 12  population         14850 non-null  int64  \n",
            " 13  scheme_management  14850 non-null  object \n",
            " 14  construction_year  14850 non-null  int64  \n",
            " 15  extraction_type    14850 non-null  object \n",
            " 16  management         14850 non-null  object \n",
            " 17  payment            14850 non-null  object \n",
            " 18  quality_group      14850 non-null  object \n",
            " 19  quantity           14850 non-null  object \n",
            " 20  source             14850 non-null  object \n",
            " 21  waterpoint_type    14850 non-null  object \n",
            "dtypes: float64(3), int64(4), object(15)\n",
            "memory usage: 2.5+ MB\n"
          ]
        }
      ]
    },
    {
      "cell_type": "markdown",
      "metadata": {
        "id": "vRb2wusKyNFG"
      },
      "source": [
        "## Factorization"
      ]
    },
    {
      "cell_type": "code",
      "metadata": {
        "id": "tQeLCsDKyQKd"
      },
      "source": [
        "wd, test_features = get_factorized_dataframe(wd, test_features, ['funder','installer', 'basin','region','lga','ward','scheme_management','management', 'payment', 'quality_group', 'quantity', 'source', 'waterpoint_type','extraction_type'])"
      ],
      "execution_count": 60,
      "outputs": []
    },
    {
      "cell_type": "code",
      "metadata": {
        "colab": {
          "base_uri": "https://localhost:8080/"
        },
        "id": "LW4YkhNf4Lak",
        "outputId": "1250574f-6362-4e18-d71a-5dd4ab2f291d"
      },
      "source": [
        "wd.info()"
      ],
      "execution_count": 61,
      "outputs": [
        {
          "output_type": "stream",
          "name": "stdout",
          "text": [
            "<class 'pandas.core.frame.DataFrame'>\n",
            "RangeIndex: 59400 entries, 0 to 59399\n",
            "Data columns (total 23 columns):\n",
            " #   Column             Non-Null Count  Dtype  \n",
            "---  ------             --------------  -----  \n",
            " 0   amount_tsh         59400 non-null  float64\n",
            " 1   date_recorded      59400 non-null  object \n",
            " 2   funder             59400 non-null  int64  \n",
            " 3   gps_height         59400 non-null  int64  \n",
            " 4   installer          59400 non-null  int64  \n",
            " 5   longitude          59400 non-null  float64\n",
            " 6   latitude           59400 non-null  float64\n",
            " 7   basin              59400 non-null  int64  \n",
            " 8   region             59400 non-null  int64  \n",
            " 9   district_code      59400 non-null  int64  \n",
            " 10  lga                59400 non-null  int64  \n",
            " 11  ward               59400 non-null  int64  \n",
            " 12  population         59400 non-null  int64  \n",
            " 13  scheme_management  59400 non-null  int64  \n",
            " 14  construction_year  59400 non-null  int64  \n",
            " 15  extraction_type    59400 non-null  int64  \n",
            " 16  management         59400 non-null  int64  \n",
            " 17  payment            59400 non-null  int64  \n",
            " 18  quality_group      59400 non-null  int64  \n",
            " 19  quantity           59400 non-null  int64  \n",
            " 20  source             59400 non-null  int64  \n",
            " 21  waterpoint_type    59400 non-null  int64  \n",
            " 22  status_group       59400 non-null  object \n",
            "dtypes: float64(3), int64(18), object(2)\n",
            "memory usage: 10.4+ MB\n"
          ]
        }
      ]
    },
    {
      "cell_type": "code",
      "metadata": {
        "id": "DASsKdrG1eq7"
      },
      "source": [
        "y = get_label_encode(wd['status_group'])"
      ],
      "execution_count": 62,
      "outputs": []
    },
    {
      "cell_type": "code",
      "metadata": {
        "colab": {
          "base_uri": "https://localhost:8080/"
        },
        "id": "71fhq5jh4vqu",
        "outputId": "a34f3d8b-6500-418d-a2d0-44f648fea69f"
      },
      "source": [
        "Counter(y)"
      ],
      "execution_count": 65,
      "outputs": [
        {
          "output_type": "execute_result",
          "data": {
            "text/plain": [
              "Counter({0: 32259, 1: 4317, 2: 22824})"
            ]
          },
          "metadata": {},
          "execution_count": 65
        }
      ]
    },
    {
      "cell_type": "code",
      "metadata": {
        "colab": {
          "base_uri": "https://localhost:8080/"
        },
        "id": "8N-XGdfWCFyt",
        "outputId": "d4180185-d952-4937-e75b-5619ab78b840"
      },
      "source": [
        "Counter(training_labels['status_group'])"
      ],
      "execution_count": 82,
      "outputs": [
        {
          "output_type": "execute_result",
          "data": {
            "text/plain": [
              "Counter({'functional': 32259,\n",
              "         'functional needs repair': 4317,\n",
              "         'non functional': 22824})"
            ]
          },
          "metadata": {},
          "execution_count": 82
        }
      ]
    },
    {
      "cell_type": "markdown",
      "metadata": {
        "id": "b-4AP5h3uDdr"
      },
      "source": [
        "# Model"
      ]
    },
    {
      "cell_type": "markdown",
      "metadata": {
        "id": "_vHvm0RXuMJj"
      },
      "source": [
        "## Data preparation"
      ]
    },
    {
      "cell_type": "code",
      "metadata": {
        "id": "s1uEc0YywDCr"
      },
      "source": [
        "labels = y\n",
        "features = wd.drop(['status_group'], axis=1)"
      ],
      "execution_count": 67,
      "outputs": []
    },
    {
      "cell_type": "code",
      "metadata": {
        "id": "vYMnr5DMuK_W"
      },
      "source": [
        "x_train, x_test, y_train, y_test = train_test_split(features, labels, test_size=0.2, random_state=0)"
      ],
      "execution_count": 68,
      "outputs": []
    },
    {
      "cell_type": "markdown",
      "metadata": {
        "id": "yxltU_QP6HMv"
      },
      "source": [
        "## Grid search"
      ]
    },
    {
      "cell_type": "code",
      "metadata": {
        "id": "Qaup3DdCvje3"
      },
      "source": [
        "param_grid = {\n",
        "    'bootstrap': [True],\n",
        "    'max_depth': [50, 100 ],\n",
        "    'max_features': [8, 16],\n",
        "    'min_samples_leaf': [5, 10],\n",
        "    'min_samples_split': [8, 16],\n",
        "    'n_estimators': [500, 1000],\n",
        "}\n",
        "num_folds = 3\n",
        "rf = RandomForestClassifier()\n",
        "grid_search = GridSearchCV(estimator = rf, param_grid = param_grid, \n",
        "                          cv = num_folds, n_jobs = -1, verbose = 2)"
      ],
      "execution_count": 74,
      "outputs": []
    },
    {
      "cell_type": "code",
      "metadata": {
        "colab": {
          "base_uri": "https://localhost:8080/"
        },
        "id": "j5qUek7sv0gL",
        "outputId": "15e93ffb-6fb3-41f8-84e6-ac33788c0c7e"
      },
      "source": [
        "grid_search.fit(x_train, y_train)\n",
        "print (grid_search.best_params_)"
      ],
      "execution_count": 75,
      "outputs": [
        {
          "output_type": "stream",
          "name": "stdout",
          "text": [
            "Fitting 3 folds for each of 32 candidates, totalling 96 fits\n"
          ]
        },
        {
          "output_type": "stream",
          "name": "stderr",
          "text": [
            "[Parallel(n_jobs=-1)]: Using backend LokyBackend with 2 concurrent workers.\n",
            "/usr/local/lib/python3.7/dist-packages/joblib/externals/loky/process_executor.py:691: UserWarning: A worker stopped while some jobs were given to the executor. This can be caused by a too short worker timeout or by a memory leak.\n",
            "  \"timeout or by a memory leak.\", UserWarning\n",
            "[Parallel(n_jobs=-1)]: Done  37 tasks      | elapsed: 44.9min\n",
            "[Parallel(n_jobs=-1)]: Done  96 out of  96 | elapsed: 128.7min finished\n"
          ]
        },
        {
          "output_type": "stream",
          "name": "stdout",
          "text": [
            "{'bootstrap': True, 'max_depth': 50, 'max_features': 8, 'min_samples_leaf': 5, 'min_samples_split': 8, 'n_estimators': 500}\n"
          ]
        }
      ]
    },
    {
      "cell_type": "code",
      "metadata": {
        "id": "0WgEJeRj5tFq"
      },
      "source": [
        "best_model = grid_search.best_estimator_"
      ],
      "execution_count": 76,
      "outputs": []
    },
    {
      "cell_type": "code",
      "metadata": {
        "colab": {
          "base_uri": "https://localhost:8080/"
        },
        "id": "u0XoI8bcBMCs",
        "outputId": "28866b77-3924-4e63-d478-a3f2f316958f"
      },
      "source": [
        "grid_search.best_score_"
      ],
      "execution_count": 77,
      "outputs": [
        {
          "output_type": "execute_result",
          "data": {
            "text/plain": [
              "0.8007154882154883"
            ]
          },
          "metadata": {},
          "execution_count": 77
        }
      ]
    },
    {
      "cell_type": "markdown",
      "metadata": {
        "id": "EulGDALS6VnL"
      },
      "source": [
        "## X test prediction"
      ]
    },
    {
      "cell_type": "code",
      "metadata": {
        "id": "_Fp-e4Rj5ut5"
      },
      "source": [
        "test_prediction = best_model.predict(x_test)"
      ],
      "execution_count": 78,
      "outputs": []
    },
    {
      "cell_type": "code",
      "metadata": {
        "colab": {
          "base_uri": "https://localhost:8080/"
        },
        "id": "xs4V4H7D5ww1",
        "outputId": "f9c76076-51b4-42e5-f42e-6178db1428a3"
      },
      "source": [
        "accuracy_score(y_test, test_prediction)"
      ],
      "execution_count": 79,
      "outputs": [
        {
          "output_type": "execute_result",
          "data": {
            "text/plain": [
              "0.811026936026936"
            ]
          },
          "metadata": {},
          "execution_count": 79
        }
      ]
    },
    {
      "cell_type": "markdown",
      "metadata": {
        "id": "XMSsQuab6iuR"
      },
      "source": [
        "## Prediction"
      ]
    },
    {
      "cell_type": "code",
      "metadata": {
        "id": "3v3Olzun6m9B"
      },
      "source": [
        "prediction = best_model.predict(test_features)"
      ],
      "execution_count": 80,
      "outputs": []
    },
    {
      "cell_type": "code",
      "metadata": {
        "colab": {
          "base_uri": "https://localhost:8080/"
        },
        "id": "mdApZSCtBrJe",
        "outputId": "163b8277-ae9f-4708-fb77-e41a24cb3fd7"
      },
      "source": [
        "prediction"
      ],
      "execution_count": 84,
      "outputs": [
        {
          "output_type": "execute_result",
          "data": {
            "text/plain": [
              "array([0, 0, 0, ..., 0, 0, 2])"
            ]
          },
          "metadata": {},
          "execution_count": 84
        }
      ]
    },
    {
      "cell_type": "code",
      "metadata": {
        "id": "DMZcY1b_BtCD"
      },
      "source": [
        "pred_results = []\n",
        "for i in prediction:\n",
        "  if i == 0:\n",
        "    pred_results.append('functional')\n",
        "  elif i == 1:\n",
        "    pred_results.append('functional needs repair')\n",
        "  elif i == 2:\n",
        "    pred_results.append('non functional')"
      ],
      "execution_count": 85,
      "outputs": []
    },
    {
      "cell_type": "code",
      "metadata": {
        "colab": {
          "base_uri": "https://localhost:8080/"
        },
        "id": "VbZ1QVPuC378",
        "outputId": "fa69666f-2d95-4ef4-f692-24258f56431a"
      },
      "source": [
        "Counter(pred_results)"
      ],
      "execution_count": 86,
      "outputs": [
        {
          "output_type": "execute_result",
          "data": {
            "text/plain": [
              "Counter({'functional': 9297,\n",
              "         'functional needs repair': 12,\n",
              "         'non functional': 5541})"
            ]
          },
          "metadata": {},
          "execution_count": 86
        }
      ]
    },
    {
      "cell_type": "code",
      "metadata": {
        "colab": {
          "base_uri": "https://localhost:8080/"
        },
        "id": "Gx-jb-OHC8MT",
        "outputId": "13ac28ae-255b-4d1d-d5da-0c84201ec122"
      },
      "source": [
        "Counter(prediction)"
      ],
      "execution_count": 87,
      "outputs": [
        {
          "output_type": "execute_result",
          "data": {
            "text/plain": [
              "Counter({0: 9297, 1: 12, 2: 5541})"
            ]
          },
          "metadata": {},
          "execution_count": 87
        }
      ]
    },
    {
      "cell_type": "markdown",
      "metadata": {
        "id": "M_4LhxFf6tbG"
      },
      "source": [
        "## Save Results"
      ]
    },
    {
      "cell_type": "code",
      "metadata": {
        "id": "WYeaiOIECDTP"
      },
      "source": [
        "results = pd.DataFrame()\n",
        "tt = pd.read_csv(test_features_path)\n",
        "results[\"id\"] = tt['id']\n",
        "results[\"status_group\"] = pred_results\n",
        "results.to_csv('output_8110.csv', index=False)"
      ],
      "execution_count": 88,
      "outputs": []
    },
    {
      "cell_type": "markdown",
      "metadata": {
        "id": "eLvX9Dpu61eL"
      },
      "source": [
        ""
      ]
    }
  ]
}