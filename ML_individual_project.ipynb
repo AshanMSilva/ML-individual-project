{
  "nbformat": 4,
  "nbformat_minor": 0,
  "metadata": {
    "colab": {
      "name": "Copy of ML-individual-project.ipynb",
      "provenance": [],
      "collapsed_sections": [
        "ojOep9Km3piK",
        "WkWDCVrNN0aL",
        "5YTSu4c9GKX6",
        "jPVRTP_SGRVP",
        "E_TW5ZZNGBlS"
      ],
      "mount_file_id": "1S6rNGvzFsNtXGRjq7BjNqDinHw7_dZ5X",
      "authorship_tag": "ABX9TyMB0Xf+4QHO55j5ugczCEzJ",
      "include_colab_link": true
    },
    "kernelspec": {
      "name": "python3",
      "display_name": "Python 3"
    },
    "language_info": {
      "name": "python"
    }
  },
  "cells": [
    {
      "cell_type": "markdown",
      "metadata": {
        "id": "view-in-github",
        "colab_type": "text"
      },
      "source": [
        "<a href=\"https://colab.research.google.com/github/AshanMSilva/ML-individual-project/blob/main/ML_individual_project.ipynb\" target=\"_parent\"><img src=\"https://colab.research.google.com/assets/colab-badge.svg\" alt=\"Open In Colab\"/></a>"
      ]
    },
    {
      "cell_type": "markdown",
      "metadata": {
        "id": "ojOep9Km3piK"
      },
      "source": [
        "# Connect Google Drive\n"
      ]
    },
    {
      "cell_type": "code",
      "metadata": {
        "colab": {
          "base_uri": "https://localhost:8080/"
        },
        "id": "HQLJ27uL3jSK",
        "outputId": "c59c3988-854d-457c-fbb9-487c63970ef8"
      },
      "source": [
        "from google.colab import drive\n",
        "drive.mount('/content/drive')"
      ],
      "execution_count": 1,
      "outputs": [
        {
          "output_type": "stream",
          "name": "stdout",
          "text": [
            "Mounted at /content/drive\n"
          ]
        }
      ]
    },
    {
      "cell_type": "markdown",
      "metadata": {
        "id": "WkWDCVrNN0aL"
      },
      "source": [
        "# Import Packages"
      ]
    },
    {
      "cell_type": "code",
      "metadata": {
        "id": "-msPi2yUOe7K"
      },
      "source": [
        "import pandas as pd\n",
        "import geopy\n",
        "from geopy.geocoders import Nominatim\n",
        "from collections import Counter\n",
        "import matplotlib.pyplot as plt\n",
        "import seaborn as sns\n",
        "import statistics\n",
        "from sklearn.model_selection import train_test_split\n",
        "from sklearn.ensemble import RandomForestClassifier\n",
        "from sklearn.model_selection import GridSearchCV\n",
        "from sklearn.metrics import accuracy_score\n",
        "from sklearn.preprocessing import LabelEncoder\n",
        "from collections import Counter\n"
      ],
      "execution_count": 2,
      "outputs": []
    },
    {
      "cell_type": "markdown",
      "metadata": {
        "id": "FjcAWHWYOk-R"
      },
      "source": [
        "# Import Datasets"
      ]
    },
    {
      "cell_type": "code",
      "metadata": {
        "id": "Q5xBDXB9OomR"
      },
      "source": [
        "training_features_path = '/content/drive/MyDrive/ML-individual-project/training_features.csv'\n",
        "training_labels_path =\"/content/drive/MyDrive/ML-individual-project/training_labels.csv\"\n",
        "test_features_path = \"/content/drive/MyDrive/ML-individual-project/test_features.csv\""
      ],
      "execution_count": 499,
      "outputs": []
    },
    {
      "cell_type": "code",
      "metadata": {
        "colab": {
          "base_uri": "https://localhost:8080/"
        },
        "id": "XmqVa1TuTp1I",
        "outputId": "0ed5cfe1-190d-4354-ba6b-918342d9fc55"
      },
      "source": [
        "training_features = pd.read_csv(training_features_path)\n",
        "training_features.info()"
      ],
      "execution_count": 500,
      "outputs": [
        {
          "output_type": "stream",
          "name": "stdout",
          "text": [
            "<class 'pandas.core.frame.DataFrame'>\n",
            "RangeIndex: 59400 entries, 0 to 59399\n",
            "Data columns (total 40 columns):\n",
            " #   Column                 Non-Null Count  Dtype  \n",
            "---  ------                 --------------  -----  \n",
            " 0   id                     59400 non-null  int64  \n",
            " 1   amount_tsh             59400 non-null  float64\n",
            " 2   date_recorded          59400 non-null  object \n",
            " 3   funder                 55765 non-null  object \n",
            " 4   gps_height             59400 non-null  int64  \n",
            " 5   installer              55745 non-null  object \n",
            " 6   longitude              59400 non-null  float64\n",
            " 7   latitude               59400 non-null  float64\n",
            " 8   wpt_name               59400 non-null  object \n",
            " 9   num_private            59400 non-null  int64  \n",
            " 10  basin                  59400 non-null  object \n",
            " 11  subvillage             59029 non-null  object \n",
            " 12  region                 59400 non-null  object \n",
            " 13  region_code            59400 non-null  int64  \n",
            " 14  district_code          59400 non-null  int64  \n",
            " 15  lga                    59400 non-null  object \n",
            " 16  ward                   59400 non-null  object \n",
            " 17  population             59400 non-null  int64  \n",
            " 18  public_meeting         56066 non-null  object \n",
            " 19  recorded_by            59400 non-null  object \n",
            " 20  scheme_management      55523 non-null  object \n",
            " 21  scheme_name            31234 non-null  object \n",
            " 22  permit                 56344 non-null  object \n",
            " 23  construction_year      59400 non-null  int64  \n",
            " 24  extraction_type        59400 non-null  object \n",
            " 25  extraction_type_group  59400 non-null  object \n",
            " 26  extraction_type_class  59400 non-null  object \n",
            " 27  management             59400 non-null  object \n",
            " 28  management_group       59400 non-null  object \n",
            " 29  payment                59400 non-null  object \n",
            " 30  payment_type           59400 non-null  object \n",
            " 31  water_quality          59400 non-null  object \n",
            " 32  quality_group          59400 non-null  object \n",
            " 33  quantity               59400 non-null  object \n",
            " 34  quantity_group         59400 non-null  object \n",
            " 35  source                 59400 non-null  object \n",
            " 36  source_type            59400 non-null  object \n",
            " 37  source_class           59400 non-null  object \n",
            " 38  waterpoint_type        59400 non-null  object \n",
            " 39  waterpoint_type_group  59400 non-null  object \n",
            "dtypes: float64(3), int64(7), object(30)\n",
            "memory usage: 18.1+ MB\n"
          ]
        }
      ]
    },
    {
      "cell_type": "code",
      "metadata": {
        "colab": {
          "base_uri": "https://localhost:8080/"
        },
        "id": "Ts_iPyiXT3si",
        "outputId": "c693870d-a299-4123-c7d2-33c1f58130d2"
      },
      "source": [
        "training_labels = pd.read_csv(training_labels_path)\n",
        "training_labels.info()"
      ],
      "execution_count": 501,
      "outputs": [
        {
          "output_type": "stream",
          "name": "stdout",
          "text": [
            "<class 'pandas.core.frame.DataFrame'>\n",
            "RangeIndex: 59400 entries, 0 to 59399\n",
            "Data columns (total 2 columns):\n",
            " #   Column        Non-Null Count  Dtype \n",
            "---  ------        --------------  ----- \n",
            " 0   id            59400 non-null  int64 \n",
            " 1   status_group  59400 non-null  object\n",
            "dtypes: int64(1), object(1)\n",
            "memory usage: 928.2+ KB\n"
          ]
        }
      ]
    },
    {
      "cell_type": "code",
      "metadata": {
        "colab": {
          "base_uri": "https://localhost:8080/"
        },
        "id": "zgHh4s_dT4w1",
        "outputId": "76bdc51a-708c-439a-a846-6f0f7d17f48d"
      },
      "source": [
        "test_features = pd.read_csv(test_features_path)\n",
        "test_features.info()"
      ],
      "execution_count": 502,
      "outputs": [
        {
          "output_type": "stream",
          "name": "stdout",
          "text": [
            "<class 'pandas.core.frame.DataFrame'>\n",
            "RangeIndex: 14850 entries, 0 to 14849\n",
            "Data columns (total 40 columns):\n",
            " #   Column                 Non-Null Count  Dtype  \n",
            "---  ------                 --------------  -----  \n",
            " 0   id                     14850 non-null  int64  \n",
            " 1   amount_tsh             14850 non-null  float64\n",
            " 2   date_recorded          14850 non-null  object \n",
            " 3   funder                 13981 non-null  object \n",
            " 4   gps_height             14850 non-null  int64  \n",
            " 5   installer              13973 non-null  object \n",
            " 6   longitude              14850 non-null  float64\n",
            " 7   latitude               14850 non-null  float64\n",
            " 8   wpt_name               14850 non-null  object \n",
            " 9   num_private            14850 non-null  int64  \n",
            " 10  basin                  14850 non-null  object \n",
            " 11  subvillage             14751 non-null  object \n",
            " 12  region                 14850 non-null  object \n",
            " 13  region_code            14850 non-null  int64  \n",
            " 14  district_code          14850 non-null  int64  \n",
            " 15  lga                    14850 non-null  object \n",
            " 16  ward                   14850 non-null  object \n",
            " 17  population             14850 non-null  int64  \n",
            " 18  public_meeting         14029 non-null  object \n",
            " 19  recorded_by            14850 non-null  object \n",
            " 20  scheme_management      13881 non-null  object \n",
            " 21  scheme_name            7758 non-null   object \n",
            " 22  permit                 14113 non-null  object \n",
            " 23  construction_year      14850 non-null  int64  \n",
            " 24  extraction_type        14850 non-null  object \n",
            " 25  extraction_type_group  14850 non-null  object \n",
            " 26  extraction_type_class  14850 non-null  object \n",
            " 27  management             14850 non-null  object \n",
            " 28  management_group       14850 non-null  object \n",
            " 29  payment                14850 non-null  object \n",
            " 30  payment_type           14850 non-null  object \n",
            " 31  water_quality          14850 non-null  object \n",
            " 32  quality_group          14850 non-null  object \n",
            " 33  quantity               14850 non-null  object \n",
            " 34  quantity_group         14850 non-null  object \n",
            " 35  source                 14850 non-null  object \n",
            " 36  source_type            14850 non-null  object \n",
            " 37  source_class           14850 non-null  object \n",
            " 38  waterpoint_type        14850 non-null  object \n",
            " 39  waterpoint_type_group  14850 non-null  object \n",
            "dtypes: float64(3), int64(7), object(30)\n",
            "memory usage: 4.5+ MB\n"
          ]
        }
      ]
    },
    {
      "cell_type": "markdown",
      "metadata": {
        "id": "5VU6GTjWUWF6"
      },
      "source": [
        "# Pre Processing"
      ]
    },
    {
      "cell_type": "code",
      "metadata": {
        "id": "KPkdSq5aILYS"
      },
      "source": [
        "whole_dateframe = training_features\n",
        "wd =whole_dateframe.join(training_labels['status_group'])"
      ],
      "execution_count": 503,
      "outputs": []
    },
    {
      "cell_type": "markdown",
      "metadata": {
        "id": "5YTSu4c9GKX6"
      },
      "source": [
        "## value counts"
      ]
    },
    {
      "cell_type": "code",
      "metadata": {
        "colab": {
          "base_uri": "https://localhost:8080/"
        },
        "id": "HM0N1kBKsArY",
        "outputId": "c4d5040e-1ba2-4520-e36f-a01b2ab04d93"
      },
      "source": [
        "wd['basin'].value_counts()"
      ],
      "execution_count": 504,
      "outputs": [
        {
          "output_type": "execute_result",
          "data": {
            "text/plain": [
              "Lake Victoria              10248\n",
              "Pangani                     8940\n",
              "Rufiji                      7976\n",
              "Internal                    7785\n",
              "Lake Tanganyika             6432\n",
              "Wami / Ruvu                 5987\n",
              "Lake Nyasa                  5085\n",
              "Ruvuma / Southern Coast     4493\n",
              "Lake Rukwa                  2454\n",
              "Name: basin, dtype: int64"
            ]
          },
          "metadata": {},
          "execution_count": 504
        }
      ]
    },
    {
      "cell_type": "code",
      "metadata": {
        "colab": {
          "base_uri": "https://localhost:8080/"
        },
        "id": "WjFGjvC2sIb3",
        "outputId": "32575d39-079b-467a-d774-ecd70925888c"
      },
      "source": [
        "wd['extraction_type_class'].value_counts()"
      ],
      "execution_count": 505,
      "outputs": [
        {
          "output_type": "execute_result",
          "data": {
            "text/plain": [
              "gravity         26780\n",
              "handpump        16456\n",
              "other            6430\n",
              "submersible      6179\n",
              "motorpump        2987\n",
              "rope pump         451\n",
              "wind-powered      117\n",
              "Name: extraction_type_class, dtype: int64"
            ]
          },
          "metadata": {},
          "execution_count": 505
        }
      ]
    },
    {
      "cell_type": "code",
      "metadata": {
        "colab": {
          "base_uri": "https://localhost:8080/"
        },
        "id": "sw1YFzT9sKxg",
        "outputId": "1fde9947-a30e-41a3-e080-6ae8bfe002de"
      },
      "source": [
        "wd['payment'].value_counts()"
      ],
      "execution_count": 506,
      "outputs": [
        {
          "output_type": "execute_result",
          "data": {
            "text/plain": [
              "never pay                25348\n",
              "pay per bucket            8985\n",
              "pay monthly               8300\n",
              "unknown                   8157\n",
              "pay when scheme fails     3914\n",
              "pay annually              3642\n",
              "other                     1054\n",
              "Name: payment, dtype: int64"
            ]
          },
          "metadata": {},
          "execution_count": 506
        }
      ]
    },
    {
      "cell_type": "code",
      "metadata": {
        "id": "YV-d28moBXZr"
      },
      "source": [
        "wd[\"payment\"].replace('unknown','other',inplace=True)"
      ],
      "execution_count": 507,
      "outputs": []
    },
    {
      "cell_type": "code",
      "metadata": {
        "id": "DEr-Rno1Cfij"
      },
      "source": [
        "test_features[\"payment\"].replace('unknown','other',inplace=True)"
      ],
      "execution_count": 508,
      "outputs": []
    },
    {
      "cell_type": "code",
      "metadata": {
        "colab": {
          "base_uri": "https://localhost:8080/"
        },
        "id": "iUqkGzWDsLUg",
        "outputId": "4aa6c318-9d65-4dae-ebca-99af8caf983d"
      },
      "source": [
        "wd['quality_group'].value_counts()"
      ],
      "execution_count": 509,
      "outputs": [
        {
          "output_type": "execute_result",
          "data": {
            "text/plain": [
              "good        50818\n",
              "salty        5195\n",
              "unknown      1876\n",
              "milky         804\n",
              "colored       490\n",
              "fluoride      217\n",
              "Name: quality_group, dtype: int64"
            ]
          },
          "metadata": {},
          "execution_count": 509
        }
      ]
    },
    {
      "cell_type": "code",
      "metadata": {
        "colab": {
          "base_uri": "https://localhost:8080/"
        },
        "id": "DqtDmnT-sL-x",
        "outputId": "8de0dcc3-1a10-4cf2-e193-a26d91737b9c"
      },
      "source": [
        "wd['quantity'].value_counts()"
      ],
      "execution_count": 510,
      "outputs": [
        {
          "output_type": "execute_result",
          "data": {
            "text/plain": [
              "enough          33186\n",
              "insufficient    15129\n",
              "dry              6246\n",
              "seasonal         4050\n",
              "unknown           789\n",
              "Name: quantity, dtype: int64"
            ]
          },
          "metadata": {},
          "execution_count": 510
        }
      ]
    },
    {
      "cell_type": "code",
      "metadata": {
        "colab": {
          "base_uri": "https://localhost:8080/"
        },
        "id": "0O1uLPXnA6xM",
        "outputId": "fd617d80-5bd5-46e4-8380-974aaeeb9d2b"
      },
      "source": [
        "wd['source'].value_counts()"
      ],
      "execution_count": 511,
      "outputs": [
        {
          "output_type": "execute_result",
          "data": {
            "text/plain": [
              "spring                  17021\n",
              "shallow well            16824\n",
              "machine dbh             11075\n",
              "river                    9612\n",
              "rainwater harvesting     2295\n",
              "hand dtw                  874\n",
              "lake                      765\n",
              "dam                       656\n",
              "other                     212\n",
              "unknown                    66\n",
              "Name: source, dtype: int64"
            ]
          },
          "metadata": {},
          "execution_count": 511
        }
      ]
    },
    {
      "cell_type": "code",
      "metadata": {
        "id": "xoRqA6vcBoMc"
      },
      "source": [
        "wd[\"source\"].replace('unknown','other',inplace=True)"
      ],
      "execution_count": 512,
      "outputs": []
    },
    {
      "cell_type": "code",
      "metadata": {
        "id": "GFq3a4QKCpqM"
      },
      "source": [
        "test_features[\"source\"].replace('unknown','other',inplace=True)"
      ],
      "execution_count": 513,
      "outputs": []
    },
    {
      "cell_type": "code",
      "metadata": {
        "colab": {
          "base_uri": "https://localhost:8080/"
        },
        "id": "bYc0i3vtIQfq",
        "outputId": "ed6541b1-5379-4985-d239-cc637b610687"
      },
      "source": [
        "wd['management_group'].value_counts()"
      ],
      "execution_count": 514,
      "outputs": [
        {
          "output_type": "execute_result",
          "data": {
            "text/plain": [
              "user-group    52490\n",
              "commercial     3638\n",
              "parastatal     1768\n",
              "other           943\n",
              "unknown         561\n",
              "Name: management_group, dtype: int64"
            ]
          },
          "metadata": {},
          "execution_count": 514
        }
      ]
    },
    {
      "cell_type": "code",
      "metadata": {
        "id": "8N9Z0yjqIir_"
      },
      "source": [
        "wd[\"management_group\"].replace('unknown','other',inplace=True)"
      ],
      "execution_count": 515,
      "outputs": []
    },
    {
      "cell_type": "code",
      "metadata": {
        "id": "F5yN5ymfIhkY"
      },
      "source": [
        "test_features[\"management_group\"].replace('unknown','other',inplace=True)"
      ],
      "execution_count": 516,
      "outputs": []
    },
    {
      "cell_type": "code",
      "metadata": {
        "colab": {
          "base_uri": "https://localhost:8080/"
        },
        "id": "ic_IaFKZBBJO",
        "outputId": "1e3a6e62-1c07-4fea-f0b7-3ae17ab4d952"
      },
      "source": [
        "wd['waterpoint_type'].value_counts()"
      ],
      "execution_count": 517,
      "outputs": [
        {
          "output_type": "execute_result",
          "data": {
            "text/plain": [
              "communal standpipe             28522\n",
              "hand pump                      17488\n",
              "other                           6380\n",
              "communal standpipe multiple     6103\n",
              "improved spring                  784\n",
              "cattle trough                    116\n",
              "dam                                7\n",
              "Name: waterpoint_type, dtype: int64"
            ]
          },
          "metadata": {},
          "execution_count": 517
        }
      ]
    },
    {
      "cell_type": "markdown",
      "metadata": {
        "id": "jPVRTP_SGRVP"
      },
      "source": [
        "## group by"
      ]
    },
    {
      "cell_type": "code",
      "metadata": {
        "colab": {
          "base_uri": "https://localhost:8080/"
        },
        "id": "W5iRDfKinuSA",
        "outputId": "75cdd3b0-7560-4ab5-90fc-9a6572ff80f6"
      },
      "source": [
        "wd.groupby(['extraction_type', 'extraction_type_group', 'extraction_type_class']).size()"
      ],
      "execution_count": 518,
      "outputs": [
        {
          "output_type": "execute_result",
          "data": {
            "text/plain": [
              "extraction_type            extraction_type_group  extraction_type_class\n",
              "afridev                    afridev                handpump                  1770\n",
              "cemo                       other motorpump        motorpump                   90\n",
              "climax                     other motorpump        motorpump                   32\n",
              "gravity                    gravity                gravity                  26780\n",
              "india mark ii              india mark ii          handpump                  2400\n",
              "india mark iii             india mark iii         handpump                    98\n",
              "ksb                        submersible            submersible               1415\n",
              "mono                       mono                   motorpump                 2865\n",
              "nira/tanira                nira/tanira            handpump                  8154\n",
              "other                      other                  other                     6430\n",
              "other - mkulima/shinyanga  other handpump         handpump                     2\n",
              "other - play pump          other handpump         handpump                    85\n",
              "other - rope pump          rope pump              rope pump                  451\n",
              "other - swn 81             other handpump         handpump                   229\n",
              "submersible                submersible            submersible               4764\n",
              "swn 80                     swn 80                 handpump                  3670\n",
              "walimi                     other handpump         handpump                    48\n",
              "windmill                   wind-powered           wind-powered               117\n",
              "dtype: int64"
            ]
          },
          "metadata": {},
          "execution_count": 518
        }
      ]
    },
    {
      "cell_type": "code",
      "metadata": {
        "colab": {
          "base_uri": "https://localhost:8080/"
        },
        "id": "VLh-YuT9lxYI",
        "outputId": "0d18f5b4-568a-4835-d7c4-456c411b685c"
      },
      "source": [
        "wd.groupby(['water_quality', 'quality_group']).size()"
      ],
      "execution_count": 519,
      "outputs": [
        {
          "output_type": "execute_result",
          "data": {
            "text/plain": [
              "water_quality       quality_group\n",
              "coloured            colored            490\n",
              "fluoride            fluoride           200\n",
              "fluoride abandoned  fluoride            17\n",
              "milky               milky              804\n",
              "salty               salty             4856\n",
              "salty abandoned     salty              339\n",
              "soft                good             50818\n",
              "unknown             unknown           1876\n",
              "dtype: int64"
            ]
          },
          "metadata": {},
          "execution_count": 519
        }
      ]
    },
    {
      "cell_type": "code",
      "metadata": {
        "colab": {
          "base_uri": "https://localhost:8080/"
        },
        "id": "RFcrEG5mzlWM",
        "outputId": "7bc1b25c-934c-41cd-ec93-5e0da3aeca2d"
      },
      "source": [
        "wd.groupby(['scheme_management', 'management_group']).size()"
      ],
      "execution_count": 520,
      "outputs": [
        {
          "output_type": "execute_result",
          "data": {
            "text/plain": [
              "scheme_management  management_group\n",
              "Company            commercial            898\n",
              "                   other                   2\n",
              "                   parastatal             25\n",
              "                   user-group            136\n",
              "None               user-group              1\n",
              "Other              commercial             84\n",
              "                   other                 527\n",
              "                   parastatal              1\n",
              "                   user-group            154\n",
              "Parastatal         commercial             60\n",
              "                   other                   4\n",
              "                   parastatal           1568\n",
              "                   user-group             48\n",
              "Private operator   commercial            971\n",
              "                   other                   4\n",
              "                   parastatal              3\n",
              "                   user-group             85\n",
              "SWC                other                  87\n",
              "                   user-group             10\n",
              "Trust              commercial             64\n",
              "                   parastatal              1\n",
              "                   user-group              7\n",
              "VWC                commercial            172\n",
              "                   other                 137\n",
              "                   parastatal            123\n",
              "                   user-group          36361\n",
              "WUA                commercial            196\n",
              "                   other                   3\n",
              "                   parastatal             29\n",
              "                   user-group           2655\n",
              "WUG                commercial             11\n",
              "                   other                  19\n",
              "                   parastatal              6\n",
              "                   user-group           5170\n",
              "Water Board        commercial              6\n",
              "                   other                  22\n",
              "                   parastatal              1\n",
              "                   user-group           2719\n",
              "Water authority    commercial           1053\n",
              "                   other                  45\n",
              "                   user-group           2055\n",
              "dtype: int64"
            ]
          },
          "metadata": {},
          "execution_count": 520
        }
      ]
    },
    {
      "cell_type": "code",
      "metadata": {
        "colab": {
          "base_uri": "https://localhost:8080/"
        },
        "id": "9zRSjb8KsCKf",
        "outputId": "231d9787-66ff-465e-c2a7-e5756aa8a0b9"
      },
      "source": [
        "training_features.groupby(['region', 'region_code','subvillage']).size()"
      ],
      "execution_count": 521,
      "outputs": [
        {
          "output_type": "execute_result",
          "data": {
            "text/plain": [
              "region  region_code  subvillage\n",
              "Arusha  2            Afya          15\n",
              "                     Ahara          1\n",
              "                     Alairataat     3\n",
              "                     Alakirikir     4\n",
              "                     Alasai         1\n",
              "                                   ..\n",
              "Tanga   5            Morogoro       1\n",
              "                     Rebenya        2\n",
              "                     Temeke A       1\n",
              "                     Ungulodi       1\n",
              "                     Walambe        1\n",
              "Length: 22661, dtype: int64"
            ]
          },
          "metadata": {},
          "execution_count": 521
        }
      ]
    },
    {
      "cell_type": "markdown",
      "metadata": {
        "id": "E_TW5ZZNGBlS"
      },
      "source": [
        "## Graphs"
      ]
    },
    {
      "cell_type": "code",
      "metadata": {
        "colab": {
          "base_uri": "https://localhost:8080/",
          "height": 0
        },
        "id": "Z2ppMyq0L4_R",
        "outputId": "a77ea53f-d29a-4b14-ede2-d657abb4f6f2"
      },
      "source": [
        "count_plot(wd, 'lga','status_group')"
      ],
      "execution_count": 522,
      "outputs": [
        {
          "output_type": "display_data",
          "data": {
            "image/png": "[encoded data removed]",
            "text/plain": [
              "<Figure size 842.4x595.44 with 1 Axes>"
            ]
          },
          "metadata": {}
        }
      ]
    },
    {
      "cell_type": "code",
      "metadata": {
        "colab": {
          "base_uri": "https://localhost:8080/",
          "height": 0
        },
        "id": "dz8Zmqp5pJ8x",
        "outputId": "b9c7913e-23cf-4847-d299-ada6a0c03f08"
      },
      "source": [
        "count_plot(wd, 'basin','status_group')"
      ],
      "execution_count": 523,
      "outputs": [
        {
          "output_type": "display_data",
          "data": {
            "image/png": "[encoded data removed]",
            "text/plain": [
              "<Figure size 842.4x595.44 with 1 Axes>"
            ]
          },
          "metadata": {}
        }
      ]
    },
    {
      "cell_type": "code",
      "metadata": {
        "colab": {
          "base_uri": "https://localhost:8080/",
          "height": 0
        },
        "id": "JqP7Jo0epKwp",
        "outputId": "dffcbfdb-f101-49ef-ea59-f1513e8044bb"
      },
      "source": [
        "count_plot(wd, 'region','status_group')"
      ],
      "execution_count": 524,
      "outputs": [
        {
          "output_type": "display_data",
          "data": {
            "image/png": "[encoded data removed]",
            "text/plain": [
              "<Figure size 842.4x595.44 with 1 Axes>"
            ]
          },
          "metadata": {}
        }
      ]
    },
    {
      "cell_type": "code",
      "metadata": {
        "colab": {
          "base_uri": "https://localhost:8080/",
          "height": 0
        },
        "id": "EwtUXzWUq5_B",
        "outputId": "6147e524-423d-4150-96a4-46ccab7904c0"
      },
      "source": [
        "count_plot(wd, 'permit','status_group')"
      ],
      "execution_count": 525,
      "outputs": [
        {
          "output_type": "display_data",
          "data": {
            "image/png": "[encoded data removed]",
            "text/plain": [
              "<Figure size 842.4x595.44 with 1 Axes>"
            ]
          },
          "metadata": {}
        }
      ]
    },
    {
      "cell_type": "code",
      "metadata": {
        "colab": {
          "base_uri": "https://localhost:8080/",
          "height": 0
        },
        "id": "WWhf44O8MUri",
        "outputId": "766be6ea-ad7b-40d3-b653-7760d739ef5d"
      },
      "source": [
        "count_plot(wd, 'public_meeting','status_group')"
      ],
      "execution_count": 526,
      "outputs": [
        {
          "output_type": "display_data",
          "data": {
            "image/png": "[encoded data removed]",
            "text/plain": [
              "<Figure size 842.4x595.44 with 1 Axes>"
            ]
          },
          "metadata": {}
        }
      ]
    },
    {
      "cell_type": "markdown",
      "metadata": {
        "id": "Ta2aD3dSGgBc"
      },
      "source": [
        "## functions"
      ]
    },
    {
      "cell_type": "code",
      "metadata": {
        "id": "-VnOkzrcnmXU"
      },
      "source": [
        "def get_encoded_labels(y):\n",
        "  encoded_y = pd.get_dummies(y['status_group'])\n",
        "  return encoded_y"
      ],
      "execution_count": 527,
      "outputs": []
    },
    {
      "cell_type": "code",
      "metadata": {
        "id": "s20iETfsoXPU"
      },
      "source": [
        "def get_factorized_features(x,x_test,feature_name):\n",
        "  x[feature_name], index = x[feature_name].factorize()\n",
        "  x_test[feature_name], index_test = x_test[feature_name].factorize()\n",
        "  return x,x_test"
      ],
      "execution_count": 528,
      "outputs": []
    },
    {
      "cell_type": "code",
      "metadata": {
        "id": "Fdhdgzoytcx6"
      },
      "source": [
        "def get_categorized_encoded_features(x,x_test,feature_name):\n",
        "  x_new = pd.get_dummies(x[feature_name], prefix=feature_name)\n",
        "  x_test_new = pd.get_dummies(x_test[feature_name], prefix=feature_name)\n",
        "  x =x.drop([feature_name],axis=1)\n",
        "  x = x.join(x_new)\n",
        "  x_test =x_test.drop([feature_name],axis=1)\n",
        "  x_test = x_test.join(x_test_new)\n",
        "  return x,x_test"
      ],
      "execution_count": 529,
      "outputs": []
    },
    {
      "cell_type": "code",
      "metadata": {
        "id": "Ru3jkC29-uS9"
      },
      "source": [
        "def get_new_dataframe(x,x_test, factorized_features_list, categorized_features_list):\n",
        "  x_temp = x\n",
        "  x_test_temp = x_test\n",
        "  for i in factorized_features_list:\n",
        "    x_temp, x_test_temp = get_factorized_features(x_temp, x_test_temp, i)\n",
        "  for j in categorized_features_list:\n",
        "    x_temp, x_test_temp = get_categorized_encoded_features(x_temp, x_test_temp, j)\n",
        "  return x_temp, x_test_temp"
      ],
      "execution_count": 530,
      "outputs": []
    },
    {
      "cell_type": "code",
      "metadata": {
        "id": "svdmFN9w2eld"
      },
      "source": [
        "def get_duration(x,x_test):\n",
        "  x_temp = x\n",
        "  x_test_temp = x_test\n",
        "  train_count = 0\n",
        "  test_count = 0\n",
        "  for i in x[\"construction_year\"]:\n",
        "    x_temp[\"construction_year\"][train_count] = -i\n",
        "    train_count+=1\n",
        "  for j in x_test[\"construction_year\"]:\n",
        "    x_test_temp[\"construction_year\"][test_count] = -j\n",
        "    test_count+=1\n",
        "  return x_temp, x_test_temp"
      ],
      "execution_count": 531,
      "outputs": []
    },
    {
      "cell_type": "code",
      "metadata": {
        "id": "9mFMI76kxNRV"
      },
      "source": [
        "def plot_x_and_y(x,y):\n",
        "  plt.bar(x, y)\n",
        "  plt.show()"
      ],
      "execution_count": 532,
      "outputs": []
    },
    {
      "cell_type": "code",
      "metadata": {
        "id": "OsbA_7Q3LE45"
      },
      "source": [
        "def count_plot(dataframe,x , hue):\n",
        "  sns.set(rc={'figure.figsize':(11.7,8.27)})\n",
        "  sns.countplot(data=dataframe,x=x,hue=hue)"
      ],
      "execution_count": 533,
      "outputs": []
    },
    {
      "cell_type": "code",
      "metadata": {
        "id": "0VXE84YymuMk"
      },
      "source": [
        "def drop_unnecessary_features(training_features,test_features, drop_list):\n",
        "  training_features_dropped = training_features.drop(drop_list, axis=1)\n",
        "  test_features_dropped = test_features.drop(drop_list, axis=1)\n",
        "  return training_features_dropped, test_features_dropped"
      ],
      "execution_count": 534,
      "outputs": []
    },
    {
      "cell_type": "code",
      "metadata": {
        "id": "O9SuVKoEuVFz"
      },
      "source": [
        "def get_year(training_features,test_features):\n",
        "  temp_training_features = training_features\n",
        "  temp_test_features = test_features\n",
        "  train_count = 0\n",
        "  test_count = 0\n",
        "  for i in training_features[\"date_recorded\"]:\n",
        "    temp_training_features[\"date_recorded\"][train_count] = int(i[0:4])\n",
        "    train_count+=1\n",
        "  for j in test_features[\"date_recorded\"]:\n",
        "    temp_test_features[\"date_recorded\"][test_count] = int(j[0:4])\n",
        "    test_count+=1\n",
        "  return temp_training_features, temp_test_features"
      ],
      "execution_count": 535,
      "outputs": []
    },
    {
      "cell_type": "code",
      "metadata": {
        "id": "bwwFJ_zAbwlM"
      },
      "source": [
        "# countries = []\n",
        "# for i in range(len(training_features[\"longitude\"])):\n",
        "#   lon = training_features['longitude'][i]\n",
        "#   lat = training_features['latitude'][i]\n",
        "#   coordinates = str(lat)+\", \"+str(lon);\n",
        "#   country = get_country(coordinates)\n",
        "#   countries.append(country)"
      ],
      "execution_count": 536,
      "outputs": []
    },
    {
      "cell_type": "code",
      "metadata": {
        "id": "D5Pw8XpoUZeC"
      },
      "source": [
        "def get_country(coordinates):\n",
        "  locator = Nominatim(user_agent=\"myGeocoder\")\n",
        "  location = locator.reverse(coordinates)\n",
        "  try:\n",
        "    return location.raw[\"address\"]['country']\n",
        "  except:\n",
        "    return \"unknown\"\n",
        "#coordinates = '53.480837, -2.244914'"
      ],
      "execution_count": 537,
      "outputs": []
    },
    {
      "cell_type": "code",
      "metadata": {
        "id": "vwUl7CXk_ssD"
      },
      "source": [
        "def fix_missing_values_using_mean(x, feature_name):\n",
        "  x_feature = x[feature_name]\n",
        "  sorted_x = sorted(x_feature)\n",
        "  zeros_count = sorted_x.count(0)\n",
        "  first_index = sorted_x.index(0)\n",
        "  without_zeros =[]\n",
        "  if first_index == 0:\n",
        "    without_zeros = sorted_x[zeros_count:]\n",
        "  else:\n",
        "    without_zeros = sorted_x[0:first_index]+sorted_x[first_index+zeros_count:]\n",
        "\n",
        "  me = statistics.mean(without_zeros)\n",
        "  rounded_mean = round(me)\n",
        "  x_temp = x\n",
        "  x_temp[feature_name].replace(0,rounded_mean,inplace=True)\n",
        "  return x_temp\n",
        "  \n"
      ],
      "execution_count": 538,
      "outputs": []
    },
    {
      "cell_type": "code",
      "metadata": {
        "id": "-_MsZbHP0Uz7"
      },
      "source": [
        "def get_label_encode(y):\n",
        "  le = LabelEncoder()\n",
        "  le.fit(y)\n",
        "  y = le.transform(y)\n",
        "  return y\n"
      ],
      "execution_count": 539,
      "outputs": []
    },
    {
      "cell_type": "markdown",
      "metadata": {
        "id": "po02vB9G6qEp"
      },
      "source": [
        "## Missing Values"
      ]
    },
    {
      "cell_type": "code",
      "metadata": {
        "id": "ynRA8HH1HA1Y"
      },
      "source": [
        "wd= fix_missing_values_using_mean(wd, 'amount_tsh')\n",
        "wd= fix_missing_values_using_mean(wd, 'gps_height')\n",
        "wd= fix_missing_values_using_mean(wd, 'population')\n",
        "wd[\"construction_year\"].replace(0,1950,inplace=True)\n",
        "\n",
        "##test\n",
        "test_features= fix_missing_values_using_mean(test_features, 'amount_tsh')\n",
        "test_features= fix_missing_values_using_mean(test_features, 'gps_height')\n",
        "test_features= fix_missing_values_using_mean(test_features, 'population')\n",
        "test_features[\"construction_year\"].replace(0,1950,inplace=True)\n"
      ],
      "execution_count": 540,
      "outputs": []
    },
    {
      "cell_type": "code",
      "metadata": {
        "id": "3qpgCJ80FIUr"
      },
      "source": [
        "wd['public_meeting'].fillna(False, inplace=True)\n",
        "wd['permit'].fillna(False, inplace=True)\n",
        "\n",
        "test_features['public_meeting'].fillna(False, inplace=True)\n",
        "test_features['permit'].fillna(False, inplace=True)"
      ],
      "execution_count": 541,
      "outputs": []
    },
    {
      "cell_type": "code",
      "metadata": {
        "colab": {
          "base_uri": "https://localhost:8080/"
        },
        "id": "JUffRpe_q57G",
        "outputId": "b4346174-e41d-4d1f-cd5c-932db443f5f6"
      },
      "source": [
        "wd['scheme_management'].value_counts()"
      ],
      "execution_count": 542,
      "outputs": [
        {
          "output_type": "execute_result",
          "data": {
            "text/plain": [
              "VWC                 36793\n",
              "WUG                  5206\n",
              "Water authority      3153\n",
              "WUA                  2883\n",
              "Water Board          2748\n",
              "Parastatal           1680\n",
              "Private operator     1063\n",
              "Company              1061\n",
              "Other                 766\n",
              "SWC                    97\n",
              "Trust                  72\n",
              "None                    1\n",
              "Name: scheme_management, dtype: int64"
            ]
          },
          "metadata": {},
          "execution_count": 542
        }
      ]
    },
    {
      "cell_type": "code",
      "metadata": {
        "id": "M52h5OcLrKYm"
      },
      "source": [
        "wd['scheme_management'].fillna('Other', inplace=True)\n",
        "wd['scheme_management'].replace('None','Other', inplace=True)"
      ],
      "execution_count": 543,
      "outputs": []
    },
    {
      "cell_type": "code",
      "metadata": {
        "colab": {
          "base_uri": "https://localhost:8080/"
        },
        "id": "i6dsNBgq3f86",
        "outputId": "bb1f9d8e-0664-439c-ec86-177b4f119bf2"
      },
      "source": [
        "test_features['scheme_management'].value_counts()"
      ],
      "execution_count": 544,
      "outputs": [
        {
          "output_type": "execute_result",
          "data": {
            "text/plain": [
              "VWC                 9124\n",
              "WUG                 1290\n",
              "Water authority      822\n",
              "Water Board          714\n",
              "WUA                  668\n",
              "Parastatal           444\n",
              "Company              280\n",
              "Private operator     263\n",
              "Other                230\n",
              "SWC                   26\n",
              "Trust                 20\n",
              "Name: scheme_management, dtype: int64"
            ]
          },
          "metadata": {},
          "execution_count": 544
        }
      ]
    },
    {
      "cell_type": "code",
      "metadata": {
        "id": "pIdy6eGr3gFi"
      },
      "source": [
        "test_features['scheme_management'].fillna('Other', inplace=True)"
      ],
      "execution_count": 545,
      "outputs": []
    },
    {
      "cell_type": "code",
      "metadata": {
        "id": "-EF_2c5NJoLw"
      },
      "source": [
        "wd['installer'] = wd['installer'].apply(lambda x: \"DWE\" if x==\"DWE\" else \"Government\" if x==\"Government\" else \"Other\")\n",
        "test_features['installer'] = test_features['installer'].apply(lambda x: \"DWE\" if x==\"DWE\" else \"Government\" if x==\"Government\" else \"Other\")"
      ],
      "execution_count": 546,
      "outputs": []
    },
    {
      "cell_type": "code",
      "metadata": {
        "id": "oQD8bt_yKFVM"
      },
      "source": [
        "wd['funder'] = wd['funder'].apply(lambda x: \"Government Of Tanzania\" if x==\"Government Of Tanzania\" else \"Other\")\n",
        "test_features['funder'] = test_features['funder'].apply(lambda x: \"Government Of Tanzania\" if x==\"Government Of Tanzania\" else \"Other\")"
      ],
      "execution_count": 547,
      "outputs": []
    },
    {
      "cell_type": "markdown",
      "metadata": {
        "id": "ehoXRU9ZhAb0"
      },
      "source": [
        "## Additional Features"
      ]
    },
    {
      "cell_type": "code",
      "metadata": {
        "colab": {
          "base_uri": "https://localhost:8080/"
        },
        "id": "elDC5O-Th0vB",
        "outputId": "ce5c7b39-dec6-4cd4-b02c-d493e62390c4"
      },
      "source": [
        "wd, test_features = get_year(wd, test_features)"
      ],
      "execution_count": 548,
      "outputs": [
        {
          "output_type": "stream",
          "name": "stderr",
          "text": [
            "/usr/local/lib/python3.7/dist-packages/ipykernel_launcher.py:7: SettingWithCopyWarning: \n",
            "A value is trying to be set on a copy of a slice from a DataFrame\n",
            "\n",
            "See the caveats in the documentation: https://pandas.pydata.org/pandas-docs/stable/user_guide/indexing.html#returning-a-view-versus-a-copy\n",
            "  import sys\n",
            "/usr/local/lib/python3.7/dist-packages/ipykernel_launcher.py:10: SettingWithCopyWarning: \n",
            "A value is trying to be set on a copy of a slice from a DataFrame\n",
            "\n",
            "See the caveats in the documentation: https://pandas.pydata.org/pandas-docs/stable/user_guide/indexing.html#returning-a-view-versus-a-copy\n",
            "  # Remove the CWD from sys.path while we load stuff.\n"
          ]
        }
      ]
    },
    {
      "cell_type": "code",
      "metadata": {
        "id": "Gd9Iv2mrg0ol"
      },
      "source": [
        "wd['duration'] = wd['date_recorded'] -wd['construction_year']"
      ],
      "execution_count": 549,
      "outputs": []
    },
    {
      "cell_type": "code",
      "metadata": {
        "id": "Tclf4L3VEPtO"
      },
      "source": [
        "test_features['duration'] = test_features['date_recorded'] -test_features['construction_year']"
      ],
      "execution_count": 550,
      "outputs": []
    },
    {
      "cell_type": "markdown",
      "metadata": {
        "id": "PSTXNQJukWEC"
      },
      "source": [
        "## Remove Unnecessary Features"
      ]
    },
    {
      "cell_type": "code",
      "metadata": {
        "id": "EoLqe67rkbtS"
      },
      "source": [
        "wd, test_features = drop_unnecessary_features(wd, test_features,['id','num_private','source_type', 'source_class', 'payment_type', 'waterpoint_type_group', 'quantity_group', 'water_quality', 'extraction_type_group', 'extraction_type', 'scheme_name', 'wpt_name', 'recorded_by','region_code','subvillage','management', 'construction_year', 'date_recorded' ])"
      ],
      "execution_count": 551,
      "outputs": []
    },
    {
      "cell_type": "code",
      "metadata": {
        "colab": {
          "base_uri": "https://localhost:8080/"
        },
        "id": "dQ4-EDAcOOby",
        "outputId": "36993dfc-90b6-4635-e50a-2c3ef5b638b0"
      },
      "source": [
        "wd.info()"
      ],
      "execution_count": 552,
      "outputs": [
        {
          "output_type": "stream",
          "name": "stdout",
          "text": [
            "<class 'pandas.core.frame.DataFrame'>\n",
            "RangeIndex: 59400 entries, 0 to 59399\n",
            "Data columns (total 24 columns):\n",
            " #   Column                 Non-Null Count  Dtype  \n",
            "---  ------                 --------------  -----  \n",
            " 0   amount_tsh             59400 non-null  float64\n",
            " 1   funder                 59400 non-null  object \n",
            " 2   gps_height             59400 non-null  int64  \n",
            " 3   installer              59400 non-null  object \n",
            " 4   longitude              59400 non-null  float64\n",
            " 5   latitude               59400 non-null  float64\n",
            " 6   basin                  59400 non-null  object \n",
            " 7   region                 59400 non-null  object \n",
            " 8   district_code          59400 non-null  int64  \n",
            " 9   lga                    59400 non-null  object \n",
            " 10  ward                   59400 non-null  object \n",
            " 11  population             59400 non-null  int64  \n",
            " 12  public_meeting         59400 non-null  bool   \n",
            " 13  scheme_management      59400 non-null  object \n",
            " 14  permit                 59400 non-null  bool   \n",
            " 15  extraction_type_class  59400 non-null  object \n",
            " 16  management_group       59400 non-null  object \n",
            " 17  payment                59400 non-null  object \n",
            " 18  quality_group          59400 non-null  object \n",
            " 19  quantity               59400 non-null  object \n",
            " 20  source                 59400 non-null  object \n",
            " 21  waterpoint_type        59400 non-null  object \n",
            " 22  status_group           59400 non-null  object \n",
            " 23  duration               59400 non-null  object \n",
            "dtypes: bool(2), float64(3), int64(3), object(16)\n",
            "memory usage: 10.1+ MB\n"
          ]
        }
      ]
    },
    {
      "cell_type": "markdown",
      "metadata": {
        "id": "vRb2wusKyNFG"
      },
      "source": [
        "## Factorization"
      ]
    },
    {
      "cell_type": "code",
      "metadata": {
        "id": "tQeLCsDKyQKd"
      },
      "source": [
        "wd, test_features = get_new_dataframe(wd, test_features, ['region','lga','ward','scheme_management'],['management_group','funder','installer','public_meeting','permit', 'basin','extraction_type_class' , 'payment', 'quality_group' , 'quantity', 'source', 'waterpoint_type'])"
      ],
      "execution_count": 553,
      "outputs": []
    },
    {
      "cell_type": "code",
      "metadata": {
        "colab": {
          "base_uri": "https://localhost:8080/"
        },
        "id": "LW4YkhNf4Lak",
        "outputId": "4b152fff-6139-4a5a-8235-83771face6ce"
      },
      "source": [
        "wd.info()"
      ],
      "execution_count": 554,
      "outputs": [
        {
          "output_type": "stream",
          "name": "stdout",
          "text": [
            "<class 'pandas.core.frame.DataFrame'>\n",
            "RangeIndex: 59400 entries, 0 to 59399\n",
            "Data columns (total 74 columns):\n",
            " #   Column                                       Non-Null Count  Dtype  \n",
            "---  ------                                       --------------  -----  \n",
            " 0   amount_tsh                                   59400 non-null  float64\n",
            " 1   gps_height                                   59400 non-null  int64  \n",
            " 2   longitude                                    59400 non-null  float64\n",
            " 3   latitude                                     59400 non-null  float64\n",
            " 4   region                                       59400 non-null  int64  \n",
            " 5   district_code                                59400 non-null  int64  \n",
            " 6   lga                                          59400 non-null  int64  \n",
            " 7   ward                                         59400 non-null  int64  \n",
            " 8   population                                   59400 non-null  int64  \n",
            " 9   scheme_management                            59400 non-null  int64  \n",
            " 10  status_group                                 59400 non-null  object \n",
            " 11  duration                                     59400 non-null  object \n",
            " 12  management_group_commercial                  59400 non-null  uint8  \n",
            " 13  management_group_other                       59400 non-null  uint8  \n",
            " 14  management_group_parastatal                  59400 non-null  uint8  \n",
            " 15  management_group_user-group                  59400 non-null  uint8  \n",
            " 16  funder_Government Of Tanzania                59400 non-null  uint8  \n",
            " 17  funder_Other                                 59400 non-null  uint8  \n",
            " 18  installer_DWE                                59400 non-null  uint8  \n",
            " 19  installer_Government                         59400 non-null  uint8  \n",
            " 20  installer_Other                              59400 non-null  uint8  \n",
            " 21  public_meeting_False                         59400 non-null  uint8  \n",
            " 22  public_meeting_True                          59400 non-null  uint8  \n",
            " 23  permit_False                                 59400 non-null  uint8  \n",
            " 24  permit_True                                  59400 non-null  uint8  \n",
            " 25  basin_Internal                               59400 non-null  uint8  \n",
            " 26  basin_Lake Nyasa                             59400 non-null  uint8  \n",
            " 27  basin_Lake Rukwa                             59400 non-null  uint8  \n",
            " 28  basin_Lake Tanganyika                        59400 non-null  uint8  \n",
            " 29  basin_Lake Victoria                          59400 non-null  uint8  \n",
            " 30  basin_Pangani                                59400 non-null  uint8  \n",
            " 31  basin_Rufiji                                 59400 non-null  uint8  \n",
            " 32  basin_Ruvuma / Southern Coast                59400 non-null  uint8  \n",
            " 33  basin_Wami / Ruvu                            59400 non-null  uint8  \n",
            " 34  extraction_type_class_gravity                59400 non-null  uint8  \n",
            " 35  extraction_type_class_handpump               59400 non-null  uint8  \n",
            " 36  extraction_type_class_motorpump              59400 non-null  uint8  \n",
            " 37  extraction_type_class_other                  59400 non-null  uint8  \n",
            " 38  extraction_type_class_rope pump              59400 non-null  uint8  \n",
            " 39  extraction_type_class_submersible            59400 non-null  uint8  \n",
            " 40  extraction_type_class_wind-powered           59400 non-null  uint8  \n",
            " 41  payment_never pay                            59400 non-null  uint8  \n",
            " 42  payment_other                                59400 non-null  uint8  \n",
            " 43  payment_pay annually                         59400 non-null  uint8  \n",
            " 44  payment_pay monthly                          59400 non-null  uint8  \n",
            " 45  payment_pay per bucket                       59400 non-null  uint8  \n",
            " 46  payment_pay when scheme fails                59400 non-null  uint8  \n",
            " 47  quality_group_colored                        59400 non-null  uint8  \n",
            " 48  quality_group_fluoride                       59400 non-null  uint8  \n",
            " 49  quality_group_good                           59400 non-null  uint8  \n",
            " 50  quality_group_milky                          59400 non-null  uint8  \n",
            " 51  quality_group_salty                          59400 non-null  uint8  \n",
            " 52  quality_group_unknown                        59400 non-null  uint8  \n",
            " 53  quantity_dry                                 59400 non-null  uint8  \n",
            " 54  quantity_enough                              59400 non-null  uint8  \n",
            " 55  quantity_insufficient                        59400 non-null  uint8  \n",
            " 56  quantity_seasonal                            59400 non-null  uint8  \n",
            " 57  quantity_unknown                             59400 non-null  uint8  \n",
            " 58  source_dam                                   59400 non-null  uint8  \n",
            " 59  source_hand dtw                              59400 non-null  uint8  \n",
            " 60  source_lake                                  59400 non-null  uint8  \n",
            " 61  source_machine dbh                           59400 non-null  uint8  \n",
            " 62  source_other                                 59400 non-null  uint8  \n",
            " 63  source_rainwater harvesting                  59400 non-null  uint8  \n",
            " 64  source_river                                 59400 non-null  uint8  \n",
            " 65  source_shallow well                          59400 non-null  uint8  \n",
            " 66  source_spring                                59400 non-null  uint8  \n",
            " 67  waterpoint_type_cattle trough                59400 non-null  uint8  \n",
            " 68  waterpoint_type_communal standpipe           59400 non-null  uint8  \n",
            " 69  waterpoint_type_communal standpipe multiple  59400 non-null  uint8  \n",
            " 70  waterpoint_type_dam                          59400 non-null  uint8  \n",
            " 71  waterpoint_type_hand pump                    59400 non-null  uint8  \n",
            " 72  waterpoint_type_improved spring              59400 non-null  uint8  \n",
            " 73  waterpoint_type_other                        59400 non-null  uint8  \n",
            "dtypes: float64(3), int64(7), object(2), uint8(62)\n",
            "memory usage: 9.0+ MB\n"
          ]
        }
      ]
    },
    {
      "cell_type": "code",
      "metadata": {
        "colab": {
          "base_uri": "https://localhost:8080/"
        },
        "id": "3Vx7QgxAQBdP",
        "outputId": "2f430449-9ad1-43b7-f7f4-9ebfcc6fd987"
      },
      "source": [
        "test_features.info()"
      ],
      "execution_count": 555,
      "outputs": [
        {
          "output_type": "stream",
          "name": "stdout",
          "text": [
            "<class 'pandas.core.frame.DataFrame'>\n",
            "RangeIndex: 14850 entries, 0 to 14849\n",
            "Data columns (total 73 columns):\n",
            " #   Column                                       Non-Null Count  Dtype  \n",
            "---  ------                                       --------------  -----  \n",
            " 0   amount_tsh                                   14850 non-null  float64\n",
            " 1   gps_height                                   14850 non-null  int64  \n",
            " 2   longitude                                    14850 non-null  float64\n",
            " 3   latitude                                     14850 non-null  float64\n",
            " 4   region                                       14850 non-null  int64  \n",
            " 5   district_code                                14850 non-null  int64  \n",
            " 6   lga                                          14850 non-null  int64  \n",
            " 7   ward                                         14850 non-null  int64  \n",
            " 8   population                                   14850 non-null  int64  \n",
            " 9   scheme_management                            14850 non-null  int64  \n",
            " 10  duration                                     14850 non-null  object \n",
            " 11  management_group_commercial                  14850 non-null  uint8  \n",
            " 12  management_group_other                       14850 non-null  uint8  \n",
            " 13  management_group_parastatal                  14850 non-null  uint8  \n",
            " 14  management_group_user-group                  14850 non-null  uint8  \n",
            " 15  funder_Government Of Tanzania                14850 non-null  uint8  \n",
            " 16  funder_Other                                 14850 non-null  uint8  \n",
            " 17  installer_DWE                                14850 non-null  uint8  \n",
            " 18  installer_Government                         14850 non-null  uint8  \n",
            " 19  installer_Other                              14850 non-null  uint8  \n",
            " 20  public_meeting_False                         14850 non-null  uint8  \n",
            " 21  public_meeting_True                          14850 non-null  uint8  \n",
            " 22  permit_False                                 14850 non-null  uint8  \n",
            " 23  permit_True                                  14850 non-null  uint8  \n",
            " 24  basin_Internal                               14850 non-null  uint8  \n",
            " 25  basin_Lake Nyasa                             14850 non-null  uint8  \n",
            " 26  basin_Lake Rukwa                             14850 non-null  uint8  \n",
            " 27  basin_Lake Tanganyika                        14850 non-null  uint8  \n",
            " 28  basin_Lake Victoria                          14850 non-null  uint8  \n",
            " 29  basin_Pangani                                14850 non-null  uint8  \n",
            " 30  basin_Rufiji                                 14850 non-null  uint8  \n",
            " 31  basin_Ruvuma / Southern Coast                14850 non-null  uint8  \n",
            " 32  basin_Wami / Ruvu                            14850 non-null  uint8  \n",
            " 33  extraction_type_class_gravity                14850 non-null  uint8  \n",
            " 34  extraction_type_class_handpump               14850 non-null  uint8  \n",
            " 35  extraction_type_class_motorpump              14850 non-null  uint8  \n",
            " 36  extraction_type_class_other                  14850 non-null  uint8  \n",
            " 37  extraction_type_class_rope pump              14850 non-null  uint8  \n",
            " 38  extraction_type_class_submersible            14850 non-null  uint8  \n",
            " 39  extraction_type_class_wind-powered           14850 non-null  uint8  \n",
            " 40  payment_never pay                            14850 non-null  uint8  \n",
            " 41  payment_other                                14850 non-null  uint8  \n",
            " 42  payment_pay annually                         14850 non-null  uint8  \n",
            " 43  payment_pay monthly                          14850 non-null  uint8  \n",
            " 44  payment_pay per bucket                       14850 non-null  uint8  \n",
            " 45  payment_pay when scheme fails                14850 non-null  uint8  \n",
            " 46  quality_group_colored                        14850 non-null  uint8  \n",
            " 47  quality_group_fluoride                       14850 non-null  uint8  \n",
            " 48  quality_group_good                           14850 non-null  uint8  \n",
            " 49  quality_group_milky                          14850 non-null  uint8  \n",
            " 50  quality_group_salty                          14850 non-null  uint8  \n",
            " 51  quality_group_unknown                        14850 non-null  uint8  \n",
            " 52  quantity_dry                                 14850 non-null  uint8  \n",
            " 53  quantity_enough                              14850 non-null  uint8  \n",
            " 54  quantity_insufficient                        14850 non-null  uint8  \n",
            " 55  quantity_seasonal                            14850 non-null  uint8  \n",
            " 56  quantity_unknown                             14850 non-null  uint8  \n",
            " 57  source_dam                                   14850 non-null  uint8  \n",
            " 58  source_hand dtw                              14850 non-null  uint8  \n",
            " 59  source_lake                                  14850 non-null  uint8  \n",
            " 60  source_machine dbh                           14850 non-null  uint8  \n",
            " 61  source_other                                 14850 non-null  uint8  \n",
            " 62  source_rainwater harvesting                  14850 non-null  uint8  \n",
            " 63  source_river                                 14850 non-null  uint8  \n",
            " 64  source_shallow well                          14850 non-null  uint8  \n",
            " 65  source_spring                                14850 non-null  uint8  \n",
            " 66  waterpoint_type_cattle trough                14850 non-null  uint8  \n",
            " 67  waterpoint_type_communal standpipe           14850 non-null  uint8  \n",
            " 68  waterpoint_type_communal standpipe multiple  14850 non-null  uint8  \n",
            " 69  waterpoint_type_dam                          14850 non-null  uint8  \n",
            " 70  waterpoint_type_hand pump                    14850 non-null  uint8  \n",
            " 71  waterpoint_type_improved spring              14850 non-null  uint8  \n",
            " 72  waterpoint_type_other                        14850 non-null  uint8  \n",
            "dtypes: float64(3), int64(7), object(1), uint8(62)\n",
            "memory usage: 2.1+ MB\n"
          ]
        }
      ]
    },
    {
      "cell_type": "code",
      "metadata": {
        "colab": {
          "base_uri": "https://localhost:8080/"
        },
        "id": "NmP8D8wFPm4f",
        "outputId": "e271c928-79c6-4c52-8a36-0ae3bc8b97c2"
      },
      "source": [
        "le = LabelEncoder()\n",
        "le.fit(training_labels['status_group'])"
      ],
      "execution_count": 556,
      "outputs": [
        {
          "output_type": "execute_result",
          "data": {
            "text/plain": [
              "LabelEncoder()"
            ]
          },
          "metadata": {},
          "execution_count": 556
        }
      ]
    },
    {
      "cell_type": "code",
      "metadata": {
        "id": "DASsKdrG1eq7"
      },
      "source": [
        "y = le.transform(training_labels['status_group'])"
      ],
      "execution_count": 557,
      "outputs": []
    },
    {
      "cell_type": "code",
      "metadata": {
        "colab": {
          "base_uri": "https://localhost:8080/"
        },
        "id": "71fhq5jh4vqu",
        "outputId": "050d105e-3c17-48d4-b862-153590f9e258"
      },
      "source": [
        "Counter(y)"
      ],
      "execution_count": 558,
      "outputs": [
        {
          "output_type": "execute_result",
          "data": {
            "text/plain": [
              "Counter({0: 32259, 1: 4317, 2: 22824})"
            ]
          },
          "metadata": {},
          "execution_count": 558
        }
      ]
    },
    {
      "cell_type": "code",
      "metadata": {
        "colab": {
          "base_uri": "https://localhost:8080/"
        },
        "id": "8N-XGdfWCFyt",
        "outputId": "e12d4836-2c46-4d07-8590-c76d9b539c38"
      },
      "source": [
        "Counter(training_labels['status_group'])"
      ],
      "execution_count": 559,
      "outputs": [
        {
          "output_type": "execute_result",
          "data": {
            "text/plain": [
              "Counter({'functional': 32259,\n",
              "         'functional needs repair': 4317,\n",
              "         'non functional': 22824})"
            ]
          },
          "metadata": {},
          "execution_count": 559
        }
      ]
    },
    {
      "cell_type": "markdown",
      "metadata": {
        "id": "b-4AP5h3uDdr"
      },
      "source": [
        "# Model"
      ]
    },
    {
      "cell_type": "markdown",
      "metadata": {
        "id": "_vHvm0RXuMJj"
      },
      "source": [
        "## Data preparation"
      ]
    },
    {
      "cell_type": "code",
      "metadata": {
        "id": "s1uEc0YywDCr"
      },
      "source": [
        "labels = y\n",
        "features = wd.drop(['status_group'], axis=1)\n",
        "# test_features = test_features.drop(['funder_Government Of Tanzania', 'funder_Other'], axis=1)"
      ],
      "execution_count": 560,
      "outputs": []
    },
    {
      "cell_type": "code",
      "metadata": {
        "id": "vYMnr5DMuK_W"
      },
      "source": [
        "x_train, x_test, y_train, y_test = train_test_split(features, labels, test_size=0.33, random_state=42)"
      ],
      "execution_count": 561,
      "outputs": []
    },
    {
      "cell_type": "markdown",
      "metadata": {
        "id": "zjk1oxdAQqUG"
      },
      "source": [
        "## Basic Training"
      ]
    },
    {
      "cell_type": "code",
      "metadata": {
        "colab": {
          "base_uri": "https://localhost:8080/"
        },
        "id": "nFVegJzzQpTO",
        "outputId": "f66acbdb-67de-4a9b-81a5-944294bca9c1"
      },
      "source": [
        "brf = RandomForestClassifier(max_depth=100, random_state=0)\n",
        "brf.fit(x_train,y_train)\n"
      ],
      "execution_count": 566,
      "outputs": [
        {
          "output_type": "execute_result",
          "data": {
            "text/plain": [
              "RandomForestClassifier(bootstrap=True, ccp_alpha=0.0, class_weight=None,\n",
              "                       criterion='gini', max_depth=100, max_features='auto',\n",
              "                       max_leaf_nodes=None, max_samples=None,\n",
              "                       min_impurity_decrease=0.0, min_impurity_split=None,\n",
              "                       min_samples_leaf=1, min_samples_split=2,\n",
              "                       min_weight_fraction_leaf=0.0, n_estimators=100,\n",
              "                       n_jobs=None, oob_score=False, random_state=0, verbose=0,\n",
              "                       warm_start=False)"
            ]
          },
          "metadata": {},
          "execution_count": 566
        }
      ]
    },
    {
      "cell_type": "code",
      "metadata": {
        "colab": {
          "base_uri": "https://localhost:8080/"
        },
        "id": "3z-o7fuDRZ5e",
        "outputId": "47ee9415-d370-4d32-88a2-a05f461b53bb"
      },
      "source": [
        "basic_pred = brf.predict(x_test)\n",
        "accuracy_score(y_test, basic_pred)"
      ],
      "execution_count": 567,
      "outputs": [
        {
          "output_type": "execute_result",
          "data": {
            "text/plain": [
              "0.7969594939291909"
            ]
          },
          "metadata": {},
          "execution_count": 567
        }
      ]
    },
    {
      "cell_type": "code",
      "metadata": {
        "id": "5BIoebCARljW"
      },
      "source": [
        "basic_val_pred = brf.predict(test_features)\n",
        "reversed_basic_val_pred = le.inverse_transform(basic_val_pred)"
      ],
      "execution_count": 568,
      "outputs": []
    },
    {
      "cell_type": "code",
      "metadata": {
        "colab": {
          "base_uri": "https://localhost:8080/"
        },
        "id": "LHm99QhwSnF4",
        "outputId": "0ade2180-72ed-472c-bb48-5c6044407d5b"
      },
      "source": [
        "Counter(reversed_basic_val_pred)"
      ],
      "execution_count": 569,
      "outputs": [
        {
          "output_type": "execute_result",
          "data": {
            "text/plain": [
              "Counter({'functional': 9518,\n",
              "         'functional needs repair': 370,\n",
              "         'non functional': 4962})"
            ]
          },
          "metadata": {},
          "execution_count": 569
        }
      ]
    },
    {
      "cell_type": "code",
      "metadata": {
        "id": "ySzSxkRyRtz4"
      },
      "source": [
        "results = pd.DataFrame()\n",
        "tt = pd.read_csv(test_features_path)\n",
        "results[\"id\"] = tt['id']\n",
        "results[\"status_group\"] = reversed_basic_val_pred\n",
        "results.to_csv('output370.csv', index=False)"
      ],
      "execution_count": 571,
      "outputs": []
    },
    {
      "cell_type": "markdown",
      "metadata": {
        "id": "yxltU_QP6HMv"
      },
      "source": [
        "## Grid search"
      ]
    },
    {
      "cell_type": "code",
      "metadata": {
        "id": "Qaup3DdCvje3"
      },
      "source": [
        "param_grid = {\n",
        "    'bootstrap': [True],\n",
        "    'max_depth': [50, 100 ],\n",
        "    'max_features': [8, 16],\n",
        "    'min_samples_leaf': [5, 10],\n",
        "    'min_samples_split': [8, 16],\n",
        "    'n_estimators': [500, 1000],\n",
        "}\n",
        "num_folds = 3\n",
        "rf = RandomForestClassifier()\n",
        "grid_search = GridSearchCV(estimator = rf, param_grid = param_grid, \n",
        "                          cv = num_folds, n_jobs = -1, verbose = 2)"
      ],
      "execution_count": null,
      "outputs": []
    },
    {
      "cell_type": "code",
      "metadata": {
        "colab": {
          "base_uri": "https://localhost:8080/"
        },
        "id": "j5qUek7sv0gL",
        "outputId": "15e93ffb-6fb3-41f8-84e6-ac33788c0c7e"
      },
      "source": [
        "grid_search.fit(x_train, y_train)\n",
        "print (grid_search.best_params_)"
      ],
      "execution_count": null,
      "outputs": [
        {
          "output_type": "stream",
          "name": "stdout",
          "text": [
            "Fitting 3 folds for each of 32 candidates, totalling 96 fits\n"
          ]
        },
        {
          "output_type": "stream",
          "name": "stderr",
          "text": [
            "[Parallel(n_jobs=-1)]: Using backend LokyBackend with 2 concurrent workers.\n",
            "/usr/local/lib/python3.7/dist-packages/joblib/externals/loky/process_executor.py:691: UserWarning: A worker stopped while some jobs were given to the executor. This can be caused by a too short worker timeout or by a memory leak.\n",
            "  \"timeout or by a memory leak.\", UserWarning\n",
            "[Parallel(n_jobs=-1)]: Done  37 tasks      | elapsed: 44.9min\n",
            "[Parallel(n_jobs=-1)]: Done  96 out of  96 | elapsed: 128.7min finished\n"
          ]
        },
        {
          "output_type": "stream",
          "name": "stdout",
          "text": [
            "{'bootstrap': True, 'max_depth': 50, 'max_features': 8, 'min_samples_leaf': 5, 'min_samples_split': 8, 'n_estimators': 500}\n"
          ]
        }
      ]
    },
    {
      "cell_type": "code",
      "metadata": {
        "id": "0WgEJeRj5tFq"
      },
      "source": [
        "best_model = grid_search.best_estimator_"
      ],
      "execution_count": null,
      "outputs": []
    },
    {
      "cell_type": "code",
      "metadata": {
        "colab": {
          "base_uri": "https://localhost:8080/"
        },
        "id": "u0XoI8bcBMCs",
        "outputId": "28866b77-3924-4e63-d478-a3f2f316958f"
      },
      "source": [
        "grid_search.best_score_"
      ],
      "execution_count": null,
      "outputs": [
        {
          "output_type": "execute_result",
          "data": {
            "text/plain": [
              "0.8007154882154883"
            ]
          },
          "metadata": {},
          "execution_count": 77
        }
      ]
    },
    {
      "cell_type": "markdown",
      "metadata": {
        "id": "EulGDALS6VnL"
      },
      "source": [
        "## X test prediction"
      ]
    },
    {
      "cell_type": "code",
      "metadata": {
        "id": "_Fp-e4Rj5ut5"
      },
      "source": [
        "test_prediction = best_model.predict(x_test)"
      ],
      "execution_count": null,
      "outputs": []
    },
    {
      "cell_type": "code",
      "metadata": {
        "colab": {
          "base_uri": "https://localhost:8080/"
        },
        "id": "xs4V4H7D5ww1",
        "outputId": "f9c76076-51b4-42e5-f42e-6178db1428a3"
      },
      "source": [
        "accuracy_score(y_test, test_prediction)"
      ],
      "execution_count": null,
      "outputs": [
        {
          "output_type": "execute_result",
          "data": {
            "text/plain": [
              "0.811026936026936"
            ]
          },
          "metadata": {},
          "execution_count": 79
        }
      ]
    },
    {
      "cell_type": "markdown",
      "metadata": {
        "id": "XMSsQuab6iuR"
      },
      "source": [
        "## Prediction"
      ]
    },
    {
      "cell_type": "code",
      "metadata": {
        "id": "3v3Olzun6m9B"
      },
      "source": [
        "prediction = best_model.predict(test_features)"
      ],
      "execution_count": null,
      "outputs": []
    },
    {
      "cell_type": "code",
      "metadata": {
        "colab": {
          "base_uri": "https://localhost:8080/"
        },
        "id": "mdApZSCtBrJe",
        "outputId": "163b8277-ae9f-4708-fb77-e41a24cb3fd7"
      },
      "source": [
        "prediction"
      ],
      "execution_count": null,
      "outputs": [
        {
          "output_type": "execute_result",
          "data": {
            "text/plain": [
              "array([0, 0, 0, ..., 0, 0, 2])"
            ]
          },
          "metadata": {},
          "execution_count": 84
        }
      ]
    },
    {
      "cell_type": "code",
      "metadata": {
        "id": "DMZcY1b_BtCD"
      },
      "source": [
        "pred_results = []\n",
        "for i in prediction:\n",
        "  if i == 0:\n",
        "    pred_results.append('functional')\n",
        "  elif i == 1:\n",
        "    pred_results.append('functional needs repair')\n",
        "  elif i == 2:\n",
        "    pred_results.append('non functional')"
      ],
      "execution_count": null,
      "outputs": []
    },
    {
      "cell_type": "code",
      "metadata": {
        "colab": {
          "base_uri": "https://localhost:8080/"
        },
        "id": "VbZ1QVPuC378",
        "outputId": "fa69666f-2d95-4ef4-f692-24258f56431a"
      },
      "source": [
        "Counter(pred_results)"
      ],
      "execution_count": null,
      "outputs": [
        {
          "output_type": "execute_result",
          "data": {
            "text/plain": [
              "Counter({'functional': 9297,\n",
              "         'functional needs repair': 12,\n",
              "         'non functional': 5541})"
            ]
          },
          "metadata": {},
          "execution_count": 86
        }
      ]
    },
    {
      "cell_type": "code",
      "metadata": {
        "colab": {
          "base_uri": "https://localhost:8080/"
        },
        "id": "Gx-jb-OHC8MT",
        "outputId": "13ac28ae-255b-4d1d-d5da-0c84201ec122"
      },
      "source": [
        "Counter(prediction)"
      ],
      "execution_count": null,
      "outputs": [
        {
          "output_type": "execute_result",
          "data": {
            "text/plain": [
              "Counter({0: 9297, 1: 12, 2: 5541})"
            ]
          },
          "metadata": {},
          "execution_count": 87
        }
      ]
    },
    {
      "cell_type": "markdown",
      "metadata": {
        "id": "M_4LhxFf6tbG"
      },
      "source": [
        "## Save Results"
      ]
    },
    {
      "cell_type": "code",
      "metadata": {
        "id": "WYeaiOIECDTP"
      },
      "source": [
        "results = pd.DataFrame()\n",
        "tt = pd.read_csv(test_features_path)\n",
        "results[\"id\"] = tt['id']\n",
        "results[\"status_group\"] = pred_results\n",
        "results.to_csv('output_8110.csv', index=False)"
      ],
      "execution_count": null,
      "outputs": []
    },
    {
      "cell_type": "markdown",
      "metadata": {
        "id": "eLvX9Dpu61eL"
      },
      "source": [
        ""
      ]
    }
  ]
}